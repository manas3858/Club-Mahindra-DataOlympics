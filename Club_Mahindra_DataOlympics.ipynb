{
  "nbformat": 4,
  "nbformat_minor": 0,
  "metadata": {
    "colab": {
      "name": "Club Mahindra DataOlympics.ipynb",
      "version": "0.3.2",
      "provenance": [],
      "collapsed_sections": [],
      "toc_visible": true,
      "include_colab_link": true
    },
    "kernelspec": {
      "name": "python3",
      "display_name": "Python 3"
    },
    "accelerator": "GPU"
  },
  "cells": [
    {
      "cell_type": "markdown",
      "metadata": {
        "id": "view-in-github",
        "colab_type": "text"
      },
      "source": [
        "<a href=\"https://colab.research.google.com/github/manas3858/Club-Mahindra-DataOlympics/blob/master/Club_Mahindra_DataOlympics.ipynb\" target=\"_parent\"><img src=\"https://colab.research.google.com/assets/colab-badge.svg\" alt=\"Open In Colab\"/></a>"
      ]
    },
    {
      "cell_type": "markdown",
      "metadata": {
        "id": "jVrP_SfYcuiP",
        "colab_type": "text"
      },
      "source": [
        " # [Contest Link](https://datahack.analyticsvidhya.com/contest/club-mahindra-dataolympics/)"
      ]
    },
    {
      "cell_type": "markdown",
      "metadata": {
        "id": "-wHHOSVocoWT",
        "colab_type": "text"
      },
      "source": [
        "![mahindra](https://datahack.analyticsvidhya.com/media/__sized__/contest_cover/Hackathon-Banner-2_bmWi9f1-thumbnail-1200x1200-90.jpg)\n",
        "\n",
        "**Problem Statement**\n",
        "\n",
        "Food & Beverages Spend Prediction in Club Mahindra Resorts\n",
        "Club Mahindra (Club M) makes significant revenue from Food and Beverages (F&B) sales in their resorts. The members of Club M are offered a wide variety of items in either buffet or À la carte form. Following are some benefits that the model to predict the spend by a member in their next visit to a resort will bring:\n",
        "1. Predicting the F&B spend of a member in a resort would help in improving the pre-sales during resort booking through web and mobile app\n",
        "2. Targeted campaigns to suit the member taste and preference of F&B\n",
        "3. Providing members in the resort with a customized experience and offers\n",
        "4. Help resort kitchen to plan the inventory and food quantity to be prepared in advance\n",
        "\n",
        "Given the information related to resort, club member, reservation etc. the task is to predict average spend per room night on food and beverages for the each reservation in the test set.\n",
        "\n",
        "\n"
      ]
    },
    {
      "cell_type": "markdown",
      "metadata": {
        "id": "sLLcPOvGy_tE",
        "colab_type": "text"
      },
      "source": [
        "# Data Import"
      ]
    },
    {
      "cell_type": "code",
      "metadata": {
        "id": "avBFXrGLaNIl",
        "colab_type": "code",
        "colab": {}
      },
      "source": [
        "# Code to read csv file into Colaboratory:\n",
        "!pip install -U -q PyDrive\n",
        "from pydrive.auth import GoogleAuth\n",
        "from pydrive.drive import GoogleDrive\n",
        "from google.colab import auth\n",
        "from oauth2client.client import GoogleCredentials\n",
        "# Authenticate and create the PyDrive client.\n",
        "auth.authenticate_user()\n",
        "gauth = GoogleAuth()\n",
        "gauth.credentials = GoogleCredentials.get_application_default()\n",
        "drive = GoogleDrive(gauth)"
      ],
      "execution_count": 0,
      "outputs": []
    },
    {
      "cell_type": "code",
      "metadata": {
        "id": "HF9st1mBa90A",
        "colab_type": "code",
        "outputId": "68df9be1-d624-41fe-d36b-828ccccc7f14",
        "colab": {
          "base_uri": "https://localhost:8080/",
          "height": 34
        }
      },
      "source": [
        "link = 'https://drive.google.com/open?id=1iRfPEI6T7EMpokoctBVy7blT_JV18jBj' # The shareable link\n",
        "\n",
        "fluff, id = link.split('=')\n",
        "print (id) # Verify that you have everything after '='\n",
        "\n",
        "downloaded = drive.CreateFile({'id':id}) \n",
        "downloaded.GetContentFile('train.csv') "
      ],
      "execution_count": 0,
      "outputs": [
        {
          "output_type": "stream",
          "text": [
            "1iRfPEI6T7EMpokoctBVy7blT_JV18jBj\n"
          ],
          "name": "stdout"
        }
      ]
    },
    {
      "cell_type": "code",
      "metadata": {
        "id": "7v4qcZ4-bqRI",
        "colab_type": "code",
        "outputId": "0114b60c-469a-493b-c5d8-23759738b79a",
        "colab": {
          "base_uri": "https://localhost:8080/",
          "height": 34
        }
      },
      "source": [
        "link = 'https://drive.google.com/open?id=1Ll6B5GhzADgIhB0J6JWtGK9NPvfOZiYI' # The shareable link\n",
        "\n",
        "fluff, id = link.split('=')\n",
        "print (id) # Verify that you have everything after '='\n",
        "\n",
        "downloaded = drive.CreateFile({'id':id}) \n",
        "downloaded.GetContentFile('test.csv') "
      ],
      "execution_count": 0,
      "outputs": [
        {
          "output_type": "stream",
          "text": [
            "1Ll6B5GhzADgIhB0J6JWtGK9NPvfOZiYI\n"
          ],
          "name": "stdout"
        }
      ]
    },
    {
      "cell_type": "code",
      "metadata": {
        "id": "g3Hwbmopbxsp",
        "colab_type": "code",
        "outputId": "7d83a5b3-ed1a-4111-922e-a8fb478ab53a",
        "colab": {
          "base_uri": "https://localhost:8080/",
          "height": 204
        }
      },
      "source": [
        "import os\n",
        "os.listdir('/content/')"
      ],
      "execution_count": 0,
      "outputs": [
        {
          "output_type": "execute_result",
          "data": {
            "text/plain": [
              "['.config',\n",
              " 'adc.json',\n",
              " 'lgbm_train.csv',\n",
              " 'final_lgbm.csv',\n",
              " 'final_lasso.csv',\n",
              " 'lgbm_test.csv',\n",
              " 'catboost_info',\n",
              " 'test.csv',\n",
              " 'train.csv',\n",
              " 'final.csv',\n",
              " 'sample_data']"
            ]
          },
          "metadata": {
            "tags": []
          },
          "execution_count": 195
        }
      ]
    },
    {
      "cell_type": "code",
      "metadata": {
        "id": "g0NlPRcDb9_C",
        "colab_type": "code",
        "colab": {}
      },
      "source": [
        "import pandas as pd\n",
        "import numpy as np\n",
        "import matplotlib.pyplot as plt"
      ],
      "execution_count": 0,
      "outputs": []
    },
    {
      "cell_type": "code",
      "metadata": {
        "id": "iHJyY8wUdPn_",
        "colab_type": "code",
        "outputId": "4a251c72-d3ed-4e09-891e-923a676f622c",
        "colab": {
          "base_uri": "https://localhost:8080/",
          "height": 253
        }
      },
      "source": [
        "##train = pd.read_csv('/content/train.csv', parse_dates = ['booking_date','checkin_date','checkout_date']) -- Improper Date format\n",
        "train = pd.read_csv('/content/train.csv')\n",
        "train.head()"
      ],
      "execution_count": 0,
      "outputs": [
        {
          "output_type": "execute_result",
          "data": {
            "text/html": [
              "<div>\n",
              "<style scoped>\n",
              "    .dataframe tbody tr th:only-of-type {\n",
              "        vertical-align: middle;\n",
              "    }\n",
              "\n",
              "    .dataframe tbody tr th {\n",
              "        vertical-align: top;\n",
              "    }\n",
              "\n",
              "    .dataframe thead th {\n",
              "        text-align: right;\n",
              "    }\n",
              "</style>\n",
              "<table border=\"1\" class=\"dataframe\">\n",
              "  <thead>\n",
              "    <tr style=\"text-align: right;\">\n",
              "      <th></th>\n",
              "      <th>reservation_id</th>\n",
              "      <th>booking_date</th>\n",
              "      <th>checkin_date</th>\n",
              "      <th>checkout_date</th>\n",
              "      <th>channel_code</th>\n",
              "      <th>main_product_code</th>\n",
              "      <th>numberofadults</th>\n",
              "      <th>numberofchildren</th>\n",
              "      <th>persontravellingid</th>\n",
              "      <th>resort_region_code</th>\n",
              "      <th>...</th>\n",
              "      <th>state_code_residence</th>\n",
              "      <th>state_code_resort</th>\n",
              "      <th>total_pax</th>\n",
              "      <th>member_age_buckets</th>\n",
              "      <th>booking_type_code</th>\n",
              "      <th>memberid</th>\n",
              "      <th>cluster_code</th>\n",
              "      <th>reservationstatusid_code</th>\n",
              "      <th>resort_id</th>\n",
              "      <th>amount_spent_per_room_night_scaled</th>\n",
              "    </tr>\n",
              "  </thead>\n",
              "  <tbody>\n",
              "    <tr>\n",
              "      <th>0</th>\n",
              "      <td>07659f3758d8aee27f5a7e2887adeacb67021cb95ada1b...</td>\n",
              "      <td>05/04/18</td>\n",
              "      <td>05/04/18</td>\n",
              "      <td>06/04/18</td>\n",
              "      <td>3</td>\n",
              "      <td>1</td>\n",
              "      <td>2</td>\n",
              "      <td>0</td>\n",
              "      <td>46</td>\n",
              "      <td>3</td>\n",
              "      <td>...</td>\n",
              "      <td>7.0</td>\n",
              "      <td>3</td>\n",
              "      <td>3</td>\n",
              "      <td>F</td>\n",
              "      <td>1</td>\n",
              "      <td>3d1539e56495b6991f0a3ef5a61ca3d03ce4fff7380e9a...</td>\n",
              "      <td>F</td>\n",
              "      <td>C</td>\n",
              "      <td>4e07408562bedb8b60ce05c1decfe3ad16b72230967de0...</td>\n",
              "      <td>7.706428</td>\n",
              "    </tr>\n",
              "    <tr>\n",
              "      <th>1</th>\n",
              "      <td>03930f033646d073462b35d411616323597715ac4fc398...</td>\n",
              "      <td>23/01/15</td>\n",
              "      <td>11/04/15</td>\n",
              "      <td>16/04/15</td>\n",
              "      <td>1</td>\n",
              "      <td>1</td>\n",
              "      <td>2</td>\n",
              "      <td>0</td>\n",
              "      <td>46</td>\n",
              "      <td>3</td>\n",
              "      <td>...</td>\n",
              "      <td>7.0</td>\n",
              "      <td>5</td>\n",
              "      <td>2</td>\n",
              "      <td>F</td>\n",
              "      <td>1</td>\n",
              "      <td>3d1539e56495b6991f0a3ef5a61ca3d03ce4fff7380e9a...</td>\n",
              "      <td>F</td>\n",
              "      <td>A</td>\n",
              "      <td>39fa9ec190eee7b6f4dff1100d6343e10918d044c75eac...</td>\n",
              "      <td>6.662563</td>\n",
              "    </tr>\n",
              "    <tr>\n",
              "      <th>2</th>\n",
              "      <td>d145a32920e6587ad95bfe299d80c0affa268220535aaf...</td>\n",
              "      <td>28/01/15</td>\n",
              "      <td>01/02/15</td>\n",
              "      <td>05/02/15</td>\n",
              "      <td>1</td>\n",
              "      <td>1</td>\n",
              "      <td>2</td>\n",
              "      <td>0</td>\n",
              "      <td>47</td>\n",
              "      <td>1</td>\n",
              "      <td>...</td>\n",
              "      <td>7.0</td>\n",
              "      <td>1</td>\n",
              "      <td>2</td>\n",
              "      <td>F</td>\n",
              "      <td>1</td>\n",
              "      <td>3d1539e56495b6991f0a3ef5a61ca3d03ce4fff7380e9a...</td>\n",
              "      <td>E</td>\n",
              "      <td>A</td>\n",
              "      <td>535fa30d7e25dd8a49f1536779734ec8286108d115da50...</td>\n",
              "      <td>7.871602</td>\n",
              "    </tr>\n",
              "    <tr>\n",
              "      <th>3</th>\n",
              "      <td>cfd77f44811ed62f25a220b53324cdbafc662a4c9e5f04...</td>\n",
              "      <td>02/05/15</td>\n",
              "      <td>11/06/15</td>\n",
              "      <td>16/06/15</td>\n",
              "      <td>1</td>\n",
              "      <td>1</td>\n",
              "      <td>2</td>\n",
              "      <td>2</td>\n",
              "      <td>46</td>\n",
              "      <td>2</td>\n",
              "      <td>...</td>\n",
              "      <td>7.0</td>\n",
              "      <td>2</td>\n",
              "      <td>2</td>\n",
              "      <td>F</td>\n",
              "      <td>1</td>\n",
              "      <td>3d1539e56495b6991f0a3ef5a61ca3d03ce4fff7380e9a...</td>\n",
              "      <td>D</td>\n",
              "      <td>A</td>\n",
              "      <td>d4735e3a265e16eee03f59718b9b5d03019c07d8b6c51f...</td>\n",
              "      <td>5.344943</td>\n",
              "    </tr>\n",
              "    <tr>\n",
              "      <th>4</th>\n",
              "      <td>937cff9e4dcfc2459620153dfc8b9962ac22bea67dfb29...</td>\n",
              "      <td>02/09/15</td>\n",
              "      <td>14/12/15</td>\n",
              "      <td>19/12/15</td>\n",
              "      <td>1</td>\n",
              "      <td>1</td>\n",
              "      <td>2</td>\n",
              "      <td>0</td>\n",
              "      <td>46</td>\n",
              "      <td>2</td>\n",
              "      <td>...</td>\n",
              "      <td>7.0</td>\n",
              "      <td>2</td>\n",
              "      <td>2</td>\n",
              "      <td>F</td>\n",
              "      <td>1</td>\n",
              "      <td>3d1539e56495b6991f0a3ef5a61ca3d03ce4fff7380e9a...</td>\n",
              "      <td>D</td>\n",
              "      <td>A</td>\n",
              "      <td>d4735e3a265e16eee03f59718b9b5d03019c07d8b6c51f...</td>\n",
              "      <td>7.059346</td>\n",
              "    </tr>\n",
              "  </tbody>\n",
              "</table>\n",
              "<p>5 rows × 24 columns</p>\n",
              "</div>"
            ],
            "text/plain": [
              "                                      reservation_id booking_date  \\\n",
              "0  07659f3758d8aee27f5a7e2887adeacb67021cb95ada1b...     05/04/18   \n",
              "1  03930f033646d073462b35d411616323597715ac4fc398...     23/01/15   \n",
              "2  d145a32920e6587ad95bfe299d80c0affa268220535aaf...     28/01/15   \n",
              "3  cfd77f44811ed62f25a220b53324cdbafc662a4c9e5f04...     02/05/15   \n",
              "4  937cff9e4dcfc2459620153dfc8b9962ac22bea67dfb29...     02/09/15   \n",
              "\n",
              "  checkin_date checkout_date  channel_code  main_product_code  numberofadults  \\\n",
              "0     05/04/18      06/04/18             3                  1               2   \n",
              "1     11/04/15      16/04/15             1                  1               2   \n",
              "2     01/02/15      05/02/15             1                  1               2   \n",
              "3     11/06/15      16/06/15             1                  1               2   \n",
              "4     14/12/15      19/12/15             1                  1               2   \n",
              "\n",
              "   numberofchildren  persontravellingid  resort_region_code  ...  \\\n",
              "0                 0                  46                   3  ...   \n",
              "1                 0                  46                   3  ...   \n",
              "2                 0                  47                   1  ...   \n",
              "3                 2                  46                   2  ...   \n",
              "4                 0                  46                   2  ...   \n",
              "\n",
              "   state_code_residence  state_code_resort  total_pax  member_age_buckets  \\\n",
              "0                   7.0                  3          3                   F   \n",
              "1                   7.0                  5          2                   F   \n",
              "2                   7.0                  1          2                   F   \n",
              "3                   7.0                  2          2                   F   \n",
              "4                   7.0                  2          2                   F   \n",
              "\n",
              "   booking_type_code                                           memberid  \\\n",
              "0                  1  3d1539e56495b6991f0a3ef5a61ca3d03ce4fff7380e9a...   \n",
              "1                  1  3d1539e56495b6991f0a3ef5a61ca3d03ce4fff7380e9a...   \n",
              "2                  1  3d1539e56495b6991f0a3ef5a61ca3d03ce4fff7380e9a...   \n",
              "3                  1  3d1539e56495b6991f0a3ef5a61ca3d03ce4fff7380e9a...   \n",
              "4                  1  3d1539e56495b6991f0a3ef5a61ca3d03ce4fff7380e9a...   \n",
              "\n",
              "   cluster_code reservationstatusid_code  \\\n",
              "0             F                        C   \n",
              "1             F                        A   \n",
              "2             E                        A   \n",
              "3             D                        A   \n",
              "4             D                        A   \n",
              "\n",
              "                                           resort_id  \\\n",
              "0  4e07408562bedb8b60ce05c1decfe3ad16b72230967de0...   \n",
              "1  39fa9ec190eee7b6f4dff1100d6343e10918d044c75eac...   \n",
              "2  535fa30d7e25dd8a49f1536779734ec8286108d115da50...   \n",
              "3  d4735e3a265e16eee03f59718b9b5d03019c07d8b6c51f...   \n",
              "4  d4735e3a265e16eee03f59718b9b5d03019c07d8b6c51f...   \n",
              "\n",
              "  amount_spent_per_room_night_scaled  \n",
              "0                           7.706428  \n",
              "1                           6.662563  \n",
              "2                           7.871602  \n",
              "3                           5.344943  \n",
              "4                           7.059346  \n",
              "\n",
              "[5 rows x 24 columns]"
            ]
          },
          "metadata": {
            "tags": []
          },
          "execution_count": 197
        }
      ]
    },
    {
      "cell_type": "code",
      "metadata": {
        "id": "641rklOtf20a",
        "colab_type": "code",
        "outputId": "35ad119a-c178-4216-cb65-df487728adb7",
        "colab": {
          "base_uri": "https://localhost:8080/",
          "height": 442
        }
      },
      "source": [
        "train.dtypes"
      ],
      "execution_count": 0,
      "outputs": [
        {
          "output_type": "execute_result",
          "data": {
            "text/plain": [
              "reservation_id                         object\n",
              "booking_date                           object\n",
              "checkin_date                           object\n",
              "checkout_date                          object\n",
              "channel_code                            int64\n",
              "main_product_code                       int64\n",
              "numberofadults                          int64\n",
              "numberofchildren                        int64\n",
              "persontravellingid                      int64\n",
              "resort_region_code                      int64\n",
              "resort_type_code                        int64\n",
              "room_type_booked_code                   int64\n",
              "roomnights                              int64\n",
              "season_holidayed_code                 float64\n",
              "state_code_residence                  float64\n",
              "state_code_resort                       int64\n",
              "total_pax                               int64\n",
              "member_age_buckets                     object\n",
              "booking_type_code                       int64\n",
              "memberid                               object\n",
              "cluster_code                           object\n",
              "reservationstatusid_code               object\n",
              "resort_id                              object\n",
              "amount_spent_per_room_night_scaled    float64\n",
              "dtype: object"
            ]
          },
          "metadata": {
            "tags": []
          },
          "execution_count": 198
        }
      ]
    },
    {
      "cell_type": "code",
      "metadata": {
        "id": "MEDr5BU5f9kn",
        "colab_type": "code",
        "colab": {}
      },
      "source": [
        "train['booking_date'] = pd.to_datetime(train['booking_date'],format= '%d/%m/%y')                    "
      ],
      "execution_count": 0,
      "outputs": []
    },
    {
      "cell_type": "code",
      "metadata": {
        "id": "l1zFc5gEgyXn",
        "colab_type": "code",
        "colab": {}
      },
      "source": [
        "train['checkin_date'] = pd.to_datetime(train['checkin_date'],format= '%d/%m/%y') \n",
        "train['checkout_date'] = pd.to_datetime(train['checkout_date'],format= '%d/%m/%y')   "
      ],
      "execution_count": 0,
      "outputs": []
    },
    {
      "cell_type": "code",
      "metadata": {
        "id": "iGV-8c6Gg6zw",
        "colab_type": "code",
        "colab": {}
      },
      "source": [
        "test = pd.read_csv('/content/test.csv')\n",
        "test['booking_date'] = pd.to_datetime(test['booking_date'],format= '%d/%m/%y')   \n",
        "test['checkin_date'] = pd.to_datetime(test['checkin_date'],format= '%d/%m/%y')   \n",
        "test['checkout_date'] = pd.to_datetime(test['checkout_date'],format= '%d/%m/%y')   "
      ],
      "execution_count": 0,
      "outputs": []
    },
    {
      "cell_type": "code",
      "metadata": {
        "id": "UtIsWDeggylf",
        "colab_type": "code",
        "outputId": "8d7cb554-3ca9-4073-9c9c-71e262f2ecb7",
        "colab": {
          "base_uri": "https://localhost:8080/",
          "height": 136
        }
      },
      "source": [
        "train.booking_date.describe()"
      ],
      "execution_count": 0,
      "outputs": [
        {
          "output_type": "execute_result",
          "data": {
            "text/plain": [
              "count                  341424\n",
              "unique                   1621\n",
              "top       2016-09-02 00:00:00\n",
              "freq                     1353\n",
              "first     2014-09-03 00:00:00\n",
              "last      2019-03-01 00:00:00\n",
              "Name: booking_date, dtype: object"
            ]
          },
          "metadata": {
            "tags": []
          },
          "execution_count": 202
        }
      ]
    },
    {
      "cell_type": "code",
      "metadata": {
        "id": "zpDwV37PimqM",
        "colab_type": "code",
        "outputId": "1458fb1e-50b9-4c33-a9b7-091e1ab93cfc",
        "colab": {
          "base_uri": "https://localhost:8080/",
          "height": 442
        }
      },
      "source": [
        "train.isnull().sum()"
      ],
      "execution_count": 0,
      "outputs": [
        {
          "output_type": "execute_result",
          "data": {
            "text/plain": [
              "reservation_id                           0\n",
              "booking_date                             0\n",
              "checkin_date                             0\n",
              "checkout_date                            0\n",
              "channel_code                             0\n",
              "main_product_code                        0\n",
              "numberofadults                           0\n",
              "numberofchildren                         0\n",
              "persontravellingid                       0\n",
              "resort_region_code                       0\n",
              "resort_type_code                         0\n",
              "room_type_booked_code                    0\n",
              "roomnights                               0\n",
              "season_holidayed_code                  114\n",
              "state_code_residence                  4764\n",
              "state_code_resort                        0\n",
              "total_pax                                0\n",
              "member_age_buckets                       0\n",
              "booking_type_code                        0\n",
              "memberid                                 0\n",
              "cluster_code                             0\n",
              "reservationstatusid_code                 0\n",
              "resort_id                                0\n",
              "amount_spent_per_room_night_scaled       0\n",
              "dtype: int64"
            ]
          },
          "metadata": {
            "tags": []
          },
          "execution_count": 203
        }
      ]
    },
    {
      "cell_type": "code",
      "metadata": {
        "id": "f4sKPnObi4fc",
        "colab_type": "code",
        "outputId": "0ec5523c-e968-4f40-fe6a-e22dd184ec84",
        "colab": {
          "base_uri": "https://localhost:8080/",
          "height": 425
        }
      },
      "source": [
        "test.isnull().sum()"
      ],
      "execution_count": 0,
      "outputs": [
        {
          "output_type": "execute_result",
          "data": {
            "text/plain": [
              "reservation_id                 0\n",
              "booking_date                   0\n",
              "checkin_date                   0\n",
              "checkout_date                  0\n",
              "channel_code                   0\n",
              "main_product_code              0\n",
              "numberofadults                 0\n",
              "numberofchildren               0\n",
              "persontravellingid             0\n",
              "resort_region_code             0\n",
              "resort_type_code               0\n",
              "room_type_booked_code          0\n",
              "roomnights                     0\n",
              "season_holidayed_code         35\n",
              "state_code_residence        2260\n",
              "state_code_resort              0\n",
              "total_pax                      0\n",
              "member_age_buckets             0\n",
              "booking_type_code              0\n",
              "memberid                       0\n",
              "cluster_code                   0\n",
              "reservationstatusid_code       0\n",
              "resort_id                      0\n",
              "dtype: int64"
            ]
          },
          "metadata": {
            "tags": []
          },
          "execution_count": 204
        }
      ]
    },
    {
      "cell_type": "markdown",
      "metadata": {
        "id": "BI3wBgVqfJ-G",
        "colab_type": "text"
      },
      "source": [
        "\n",
        "# **Missing Value Treatment and EDA**"
      ]
    },
    {
      "cell_type": "code",
      "metadata": {
        "id": "7CP7C6eSxNnZ",
        "colab_type": "code",
        "outputId": "da39dae7-07d3-4f8f-f6bf-29290d39612f",
        "colab": {
          "base_uri": "https://localhost:8080/",
          "height": 34
        }
      },
      "source": [
        "# cannot get anything from member IDs\n",
        "set(train[train.state_code_residence.isnull()].memberid.unique()).intersection(set(train[train.state_code_residence.notnull()].memberid.unique()))"
      ],
      "execution_count": 0,
      "outputs": [
        {
          "output_type": "execute_result",
          "data": {
            "text/plain": [
              "set()"
            ]
          },
          "metadata": {
            "tags": []
          },
          "execution_count": 205
        }
      ]
    },
    {
      "cell_type": "code",
      "metadata": {
        "id": "VOPLRyMnOEZo",
        "colab_type": "code",
        "outputId": "1e41fdc3-21fe-4893-b68d-4a0ad82a1ef7",
        "colab": {
          "base_uri": "https://localhost:8080/",
          "height": 34
        }
      },
      "source": [
        "# cannot get anything from persontravelling IDs\n",
        "set(train[train.state_code_residence.isnull()].persontravellingid.unique()).intersection(set(train[train.persontravellingid.notnull()].memberid.unique()))"
      ],
      "execution_count": 0,
      "outputs": [
        {
          "output_type": "execute_result",
          "data": {
            "text/plain": [
              "set()"
            ]
          },
          "metadata": {
            "tags": []
          },
          "execution_count": 206
        }
      ]
    },
    {
      "cell_type": "code",
      "metadata": {
        "id": "8d1OL98zi-nK",
        "colab_type": "code",
        "outputId": "ff8fb624-b201-4d27-b112-f23eab146971",
        "colab": {
          "base_uri": "https://localhost:8080/",
          "height": 663
        }
      },
      "source": [
        "train.state_code_residence.value_counts()"
      ],
      "execution_count": 0,
      "outputs": [
        {
          "output_type": "execute_result",
          "data": {
            "text/plain": [
              "8.0     134919\n",
              "2.0      41143\n",
              "1.0      28040\n",
              "7.0      25873\n",
              "5.0      21051\n",
              "4.0      15938\n",
              "9.0      12291\n",
              "15.0      9490\n",
              "10.0      9356\n",
              "6.0       6384\n",
              "12.0      6092\n",
              "3.0       3943\n",
              "23.0      3835\n",
              "14.0      3132\n",
              "16.0      2371\n",
              "13.0      1771\n",
              "21.0      1694\n",
              "20.0      1470\n",
              "18.0      1429\n",
              "19.0      1085\n",
              "26.0      1068\n",
              "25.0       840\n",
              "27.0       790\n",
              "11.0       713\n",
              "28.0       541\n",
              "22.0       432\n",
              "24.0       382\n",
              "30.0       144\n",
              "29.0       101\n",
              "33.0        88\n",
              "31.0        60\n",
              "37.0        59\n",
              "32.0        53\n",
              "34.0        48\n",
              "35.0        16\n",
              "36.0        12\n",
              "38.0         6\n",
              "Name: state_code_residence, dtype: int64"
            ]
          },
          "metadata": {
            "tags": []
          },
          "execution_count": 207
        }
      ]
    },
    {
      "cell_type": "code",
      "metadata": {
        "id": "Y2rjZDJcNxEG",
        "colab_type": "code",
        "colab": {}
      },
      "source": [
        "## No inference from any variable, replacing nulls with mod of the distribution\n",
        "train['state_code_residence'].fillna(8, inplace = True)"
      ],
      "execution_count": 0,
      "outputs": []
    },
    {
      "cell_type": "code",
      "metadata": {
        "id": "nFP0IG8IPMDw",
        "colab_type": "code",
        "colab": {}
      },
      "source": [
        "test['state_code_residence'].fillna(8, inplace = True)"
      ],
      "execution_count": 0,
      "outputs": []
    },
    {
      "cell_type": "code",
      "metadata": {
        "id": "5rPmSGaOPjOG",
        "colab_type": "code",
        "outputId": "f0756739-de2a-4cb8-cbf9-d82a9d3f7cdf",
        "colab": {
          "base_uri": "https://localhost:8080/",
          "height": 102
        }
      },
      "source": [
        "train.season_holidayed_code.value_counts()"
      ],
      "execution_count": 0,
      "outputs": [
        {
          "output_type": "execute_result",
          "data": {
            "text/plain": [
              "2.0    126771\n",
              "3.0    118187\n",
              "4.0     69387\n",
              "1.0     26965\n",
              "Name: season_holidayed_code, dtype: int64"
            ]
          },
          "metadata": {
            "tags": []
          },
          "execution_count": 210
        }
      ]
    },
    {
      "cell_type": "code",
      "metadata": {
        "id": "_zerHfB-PpE6",
        "colab_type": "code",
        "outputId": "b58a636e-60e4-4e99-a951-486fe40aa255",
        "colab": {
          "base_uri": "https://localhost:8080/",
          "height": 102
        }
      },
      "source": [
        "test.season_holidayed_code.value_counts()"
      ],
      "execution_count": 0,
      "outputs": [
        {
          "output_type": "execute_result",
          "data": {
            "text/plain": [
              "2.0    54093\n",
              "3.0    51453\n",
              "4.0    29889\n",
              "1.0    11295\n",
              "Name: season_holidayed_code, dtype: int64"
            ]
          },
          "metadata": {
            "tags": []
          },
          "execution_count": 211
        }
      ]
    },
    {
      "cell_type": "code",
      "metadata": {
        "id": "XTCzwOgnPQr6",
        "colab_type": "code",
        "colab": {}
      },
      "source": [
        "## very few nulls for season_holidayed_code, replacing NAs with mod\n",
        "train['season_holidayed_code'].fillna(2, inplace = True)\n",
        "test['season_holidayed_code'].fillna(2, inplace = True)"
      ],
      "execution_count": 0,
      "outputs": []
    },
    {
      "cell_type": "code",
      "metadata": {
        "id": "Y6BDK9qdPuDG",
        "colab_type": "code",
        "outputId": "70cfe8b5-d459-4d81-8201-d0e97388ac02",
        "colab": {
          "base_uri": "https://localhost:8080/",
          "height": 442
        }
      },
      "source": [
        "train.isnull().sum()"
      ],
      "execution_count": 0,
      "outputs": [
        {
          "output_type": "execute_result",
          "data": {
            "text/plain": [
              "reservation_id                        0\n",
              "booking_date                          0\n",
              "checkin_date                          0\n",
              "checkout_date                         0\n",
              "channel_code                          0\n",
              "main_product_code                     0\n",
              "numberofadults                        0\n",
              "numberofchildren                      0\n",
              "persontravellingid                    0\n",
              "resort_region_code                    0\n",
              "resort_type_code                      0\n",
              "room_type_booked_code                 0\n",
              "roomnights                            0\n",
              "season_holidayed_code                 0\n",
              "state_code_residence                  0\n",
              "state_code_resort                     0\n",
              "total_pax                             0\n",
              "member_age_buckets                    0\n",
              "booking_type_code                     0\n",
              "memberid                              0\n",
              "cluster_code                          0\n",
              "reservationstatusid_code              0\n",
              "resort_id                             0\n",
              "amount_spent_per_room_night_scaled    0\n",
              "dtype: int64"
            ]
          },
          "metadata": {
            "tags": []
          },
          "execution_count": 213
        }
      ]
    },
    {
      "cell_type": "code",
      "metadata": {
        "id": "j6RQvGwoP5Hf",
        "colab_type": "code",
        "outputId": "b0c55c56-4b76-4e52-a579-7c174b01963a",
        "colab": {
          "base_uri": "https://localhost:8080/",
          "height": 468
        }
      },
      "source": [
        "import seaborn as sns\n",
        "\n",
        "sns.heatmap(train.corr(),cmap = \"YlGnBu\")"
      ],
      "execution_count": 0,
      "outputs": [
        {
          "output_type": "execute_result",
          "data": {
            "text/plain": [
              "<matplotlib.axes._subplots.AxesSubplot at 0x7facaca8d6d8>"
            ]
          },
          "metadata": {
            "tags": []
          },
          "execution_count": 215
        },
        {
          "output_type": "display_data",
          "data": {
            "image/png": "[encoded data removed]",
            "text/plain": [
              "<Figure size 432x288 with 2 Axes>"
            ]
          },
          "metadata": {
            "tags": []
          }
        }
      ]
    },
    {
      "cell_type": "code",
      "metadata": {
        "id": "arMsu3HzaXj8",
        "colab_type": "code",
        "colab": {}
      },
      "source": [
        "# 1 way ANOVA test\n",
        "from sklearn.feature_selection import SelectKBest\n",
        "from sklearn.feature_selection import f_classif"
      ],
      "execution_count": 0,
      "outputs": []
    },
    {
      "cell_type": "code",
      "metadata": {
        "id": "OhWxa6mna6Pk",
        "colab_type": "code",
        "colab": {}
      },
      "source": [
        "# Create a SelectKBest object to select features with K best ANOVA F-Values\n",
        "fvalue_selector = SelectKBest(f_classif, k = 4)"
      ],
      "execution_count": 0,
      "outputs": []
    },
    {
      "cell_type": "code",
      "metadata": {
        "id": "RemFnP8NcDbb",
        "colab_type": "code",
        "colab": {}
      },
      "source": [
        "categ_column = ['channel_code','main_product_code','persontravellingid','resort_region_code','resort_type_code','room_type_booked_code','season_holidayed_code','state_code_residence','state_code_resort','booking_type_code']"
      ],
      "execution_count": 0,
      "outputs": []
    },
    {
      "cell_type": "code",
      "metadata": {
        "id": "Jw3wAK_9cCVl",
        "colab_type": "code",
        "outputId": "81141ae3-f139-4f01-a021-a539ef429376",
        "colab": {
          "base_uri": "https://localhost:8080/",
          "height": 224
        }
      },
      "source": [
        "train[categ_column].head()"
      ],
      "execution_count": 0,
      "outputs": [
        {
          "output_type": "execute_result",
          "data": {
            "text/html": [
              "<div>\n",
              "<style scoped>\n",
              "    .dataframe tbody tr th:only-of-type {\n",
              "        vertical-align: middle;\n",
              "    }\n",
              "\n",
              "    .dataframe tbody tr th {\n",
              "        vertical-align: top;\n",
              "    }\n",
              "\n",
              "    .dataframe thead th {\n",
              "        text-align: right;\n",
              "    }\n",
              "</style>\n",
              "<table border=\"1\" class=\"dataframe\">\n",
              "  <thead>\n",
              "    <tr style=\"text-align: right;\">\n",
              "      <th></th>\n",
              "      <th>channel_code</th>\n",
              "      <th>main_product_code</th>\n",
              "      <th>persontravellingid</th>\n",
              "      <th>resort_region_code</th>\n",
              "      <th>resort_type_code</th>\n",
              "      <th>room_type_booked_code</th>\n",
              "      <th>season_holidayed_code</th>\n",
              "      <th>state_code_residence</th>\n",
              "      <th>state_code_resort</th>\n",
              "      <th>booking_type_code</th>\n",
              "    </tr>\n",
              "  </thead>\n",
              "  <tbody>\n",
              "    <tr>\n",
              "      <th>0</th>\n",
              "      <td>3</td>\n",
              "      <td>1</td>\n",
              "      <td>46</td>\n",
              "      <td>3</td>\n",
              "      <td>3</td>\n",
              "      <td>3</td>\n",
              "      <td>2.0</td>\n",
              "      <td>7.0</td>\n",
              "      <td>3</td>\n",
              "      <td>1</td>\n",
              "    </tr>\n",
              "    <tr>\n",
              "      <th>1</th>\n",
              "      <td>1</td>\n",
              "      <td>1</td>\n",
              "      <td>46</td>\n",
              "      <td>3</td>\n",
              "      <td>3</td>\n",
              "      <td>4</td>\n",
              "      <td>2.0</td>\n",
              "      <td>7.0</td>\n",
              "      <td>5</td>\n",
              "      <td>1</td>\n",
              "    </tr>\n",
              "    <tr>\n",
              "      <th>2</th>\n",
              "      <td>1</td>\n",
              "      <td>1</td>\n",
              "      <td>47</td>\n",
              "      <td>1</td>\n",
              "      <td>5</td>\n",
              "      <td>4</td>\n",
              "      <td>2.0</td>\n",
              "      <td>7.0</td>\n",
              "      <td>1</td>\n",
              "      <td>1</td>\n",
              "    </tr>\n",
              "    <tr>\n",
              "      <th>3</th>\n",
              "      <td>1</td>\n",
              "      <td>1</td>\n",
              "      <td>46</td>\n",
              "      <td>2</td>\n",
              "      <td>2</td>\n",
              "      <td>3</td>\n",
              "      <td>2.0</td>\n",
              "      <td>7.0</td>\n",
              "      <td>2</td>\n",
              "      <td>1</td>\n",
              "    </tr>\n",
              "    <tr>\n",
              "      <th>4</th>\n",
              "      <td>1</td>\n",
              "      <td>1</td>\n",
              "      <td>46</td>\n",
              "      <td>2</td>\n",
              "      <td>2</td>\n",
              "      <td>4</td>\n",
              "      <td>2.0</td>\n",
              "      <td>7.0</td>\n",
              "      <td>2</td>\n",
              "      <td>1</td>\n",
              "    </tr>\n",
              "  </tbody>\n",
              "</table>\n",
              "</div>"
            ],
            "text/plain": [
              "   channel_code  main_product_code  persontravellingid  resort_region_code  \\\n",
              "0             3                  1                  46                   3   \n",
              "1             1                  1                  46                   3   \n",
              "2             1                  1                  47                   1   \n",
              "3             1                  1                  46                   2   \n",
              "4             1                  1                  46                   2   \n",
              "\n",
              "   resort_type_code  room_type_booked_code  season_holidayed_code  \\\n",
              "0                 3                      3                    2.0   \n",
              "1                 3                      4                    2.0   \n",
              "2                 5                      4                    2.0   \n",
              "3                 2                      3                    2.0   \n",
              "4                 2                      4                    2.0   \n",
              "\n",
              "   state_code_residence  state_code_resort  booking_type_code  \n",
              "0                   7.0                  3                  1  \n",
              "1                   7.0                  5                  1  \n",
              "2                   7.0                  1                  1  \n",
              "3                   7.0                  2                  1  \n",
              "4                   7.0                  2                  1  "
            ]
          },
          "metadata": {
            "tags": []
          },
          "execution_count": 219
        }
      ]
    },
    {
      "cell_type": "code",
      "metadata": {
        "id": "GQvlcHrjbcc9",
        "colab_type": "code",
        "colab": {}
      },
      "source": [
        "# Get f values for each of the variables\n",
        "fvalues = fvalue_selector.fit(train[categ_column],train.iloc[:,23])"
      ],
      "execution_count": 0,
      "outputs": []
    },
    {
      "cell_type": "code",
      "metadata": {
        "id": "dBOL80nzhMC7",
        "colab_type": "code",
        "outputId": "ead61e50-7098-4d43-b2a3-333d1aa58a30",
        "colab": {
          "base_uri": "https://localhost:8080/",
          "height": 68
        }
      },
      "source": [
        "print(\"p_values\", fvalue_selector.pvalues_)"
      ],
      "execution_count": 0,
      "outputs": [
        {
          "output_type": "stream",
          "text": [
            "p_values [2.35013336e-113 9.98282886e-001 1.00000000e+000 0.00000000e+000\n",
            " 1.71419093e-121 7.96976144e-050 2.38073033e-079 1.00000000e+000\n",
            " 5.59404873e-265 9.86698452e-001]\n"
          ],
          "name": "stdout"
        }
      ]
    },
    {
      "cell_type": "code",
      "metadata": {
        "id": "eWkQTu_Ebw6q",
        "colab_type": "code",
        "outputId": "79acf9b9-c4bf-409c-f435-6011e10b4226",
        "colab": {
          "base_uri": "https://localhost:8080/",
          "height": 51
        }
      },
      "source": [
        "print(\"f_scores\", fvalue_selector.scores_)"
      ],
      "execution_count": 0,
      "outputs": [
        {
          "output_type": "stream",
          "text": [
            "f_scores [1.15354885 0.98198903 0.81824383 1.52865897 1.15958776 1.09749566\n",
            " 1.12602574 0.94479866 1.24802967 0.98631687]\n"
          ],
          "name": "stdout"
        }
      ]
    },
    {
      "cell_type": "code",
      "metadata": {
        "id": "jk6n1Bz9hr_a",
        "colab_type": "code",
        "colab": {}
      },
      "source": [
        "amount_spend_book_date = (train.groupby('booking_date').sum()['amount_spent_per_room_night_scaled'].reset_index())"
      ],
      "execution_count": 0,
      "outputs": []
    },
    {
      "cell_type": "code",
      "metadata": {
        "id": "r6M2l0MGwVby",
        "colab_type": "code",
        "outputId": "d9d20356-ec66-4d41-d5d7-7987b30fda38",
        "colab": {
          "base_uri": "https://localhost:8080/",
          "height": 269
        }
      },
      "source": [
        "plt.plot(amount_spend_book_date.iloc[:,0],amount_spend_book_date.iloc[:,1])\n",
        "plt.show()"
      ],
      "execution_count": 0,
      "outputs": [
        {
          "output_type": "display_data",
          "data": {
            "image/png": "[encoded data removed]",
            "text/plain": [
              "<Figure size 432x288 with 1 Axes>"
            ]
          },
          "metadata": {
            "tags": []
          }
        }
      ]
    },
    {
      "cell_type": "markdown",
      "metadata": {
        "id": "SZbppyhGzByH",
        "colab_type": "text"
      },
      "source": [
        "# Feature Engineering"
      ]
    },
    {
      "cell_type": "code",
      "metadata": {
        "id": "9GHnf6uIzIlo",
        "colab_type": "code",
        "colab": {}
      },
      "source": [
        "#total pax in train data seems incorrect, calculating total_pax separately\n",
        "train['total_visitors'] = train['numberofadults'] + train['numberofchildren'] "
      ],
      "execution_count": 0,
      "outputs": []
    },
    {
      "cell_type": "code",
      "metadata": {
        "id": "kIx9F2NnFl6C",
        "colab_type": "code",
        "colab": {}
      },
      "source": [
        "# Any kids in the group?\n",
        "train['children_yn'] = train['numberofchildren'] > 0"
      ],
      "execution_count": 0,
      "outputs": []
    },
    {
      "cell_type": "code",
      "metadata": {
        "id": "VX4SqirbF6fy",
        "colab_type": "code",
        "colab": {}
      },
      "source": [
        "# Advance booking period\n",
        "train['advance_book_period'] = (train['checkin_date'] - train['booking_date']).dt.days"
      ],
      "execution_count": 0,
      "outputs": []
    },
    {
      "cell_type": "code",
      "metadata": {
        "id": "U7Uhjm2AdLL0",
        "colab_type": "code",
        "colab": {}
      },
      "source": [
        "# Advance booking period\n",
        "train['stay_period'] = (train['checkout_date'] - train['checkin_date']).dt.days"
      ],
      "execution_count": 0,
      "outputs": []
    },
    {
      "cell_type": "code",
      "metadata": {
        "id": "agiqGhLgGm8H",
        "colab_type": "code",
        "colab": {}
      },
      "source": [
        "# Booking Month and Check in Month\n",
        "train['checkin_month'] = train['checkin_date'].dt.month.astype('str')\n",
        "train['booking_month'] = train['booking_date'].dt.month.astype('str')"
      ],
      "execution_count": 0,
      "outputs": []
    },
    {
      "cell_type": "code",
      "metadata": {
        "id": "6O_vj-fUZnX5",
        "colab_type": "code",
        "colab": {}
      },
      "source": [
        "# Checkin week number and weekday \n",
        "train['checkin_weekday'] = train['checkin_date'].dt.weekday.astype('str')\n",
        "train['checkin_weeknumber'] = train['checkin_date'].dt.week.astype('str')"
      ],
      "execution_count": 0,
      "outputs": []
    },
    {
      "cell_type": "code",
      "metadata": {
        "id": "qJHFE1EETWIa",
        "colab_type": "code",
        "colab": {}
      },
      "source": [
        "# Booking week number and weekday \n",
        "train['booking_weekday'] = train['booking_date'].dt.weekday.astype('str')\n",
        "train['booking_weeknumber'] = train['booking_date'].dt.week.astype('str')"
      ],
      "execution_count": 0,
      "outputs": []
    },
    {
      "cell_type": "code",
      "metadata": {
        "id": "pADJN-_lTWc0",
        "colab_type": "code",
        "outputId": "06460ef7-077b-4422-c65a-85e55006099f",
        "colab": {
          "base_uri": "https://localhost:8080/",
          "height": 510
        }
      },
      "source": [
        "# Analysig No of adults\n",
        "train['numberofadults'].value_counts()"
      ],
      "execution_count": 0,
      "outputs": [
        {
          "output_type": "execute_result",
          "data": {
            "text/plain": [
              "2     149414\n",
              "4      84468\n",
              "3      63247\n",
              "6      20052\n",
              "5       9849\n",
              "8       5198\n",
              "7       2673\n",
              "9       1445\n",
              "1       1280\n",
              "10      1256\n",
              "12      1010\n",
              "11       357\n",
              "16       293\n",
              "14       216\n",
              "15       207\n",
              "13       120\n",
              "24        83\n",
              "20        64\n",
              "18        62\n",
              "0         27\n",
              "17        20\n",
              "22        19\n",
              "19        12\n",
              "25        12\n",
              "21        11\n",
              "23        10\n",
              "32        10\n",
              "30         9\n",
              "Name: numberofadults, dtype: int64"
            ]
          },
          "metadata": {
            "tags": []
          },
          "execution_count": 236
        }
      ]
    },
    {
      "cell_type": "code",
      "metadata": {
        "id": "gXi9tDASTWtx",
        "colab_type": "code",
        "colab": {}
      },
      "source": [
        "# Bucketing no of adults in 0-8, 9-16, 17+\n",
        "bins = pd.IntervalIndex.from_tuples([(-1, 8), (8, 16), (16, 33)])"
      ],
      "execution_count": 0,
      "outputs": []
    },
    {
      "cell_type": "code",
      "metadata": {
        "id": "PGB8BwuwnDl7",
        "colab_type": "code",
        "colab": {}
      },
      "source": [
        "train['numberofadults_bins'] = pd.cut(train['numberofadults'],bins)"
      ],
      "execution_count": 0,
      "outputs": []
    },
    {
      "cell_type": "code",
      "metadata": {
        "id": "SA_R0YNsmCw9",
        "colab_type": "code",
        "outputId": "16b4d900-5395-46eb-e0a8-c65f342caec5",
        "colab": {
          "base_uri": "https://localhost:8080/",
          "height": 85
        }
      },
      "source": [
        "train['numberofadults_bins'].value_counts()"
      ],
      "execution_count": 0,
      "outputs": [
        {
          "output_type": "execute_result",
          "data": {
            "text/plain": [
              "(-1, 8]     336208\n",
              "(8, 16]       4904\n",
              "(16, 33]       312\n",
              "Name: numberofadults_bins, dtype: int64"
            ]
          },
          "metadata": {
            "tags": []
          },
          "execution_count": 239
        }
      ]
    },
    {
      "cell_type": "code",
      "metadata": {
        "id": "A7xNmOWon5hE",
        "colab_type": "code",
        "outputId": "1f84b774-e582-4bb4-b530-4e0fb589ffcd",
        "colab": {
          "base_uri": "https://localhost:8080/",
          "height": 34
        }
      },
      "source": [
        "train['numberofadults_bins'].isnull().sum()"
      ],
      "execution_count": 0,
      "outputs": [
        {
          "output_type": "execute_result",
          "data": {
            "text/plain": [
              "0"
            ]
          },
          "metadata": {
            "tags": []
          },
          "execution_count": 240
        }
      ]
    },
    {
      "cell_type": "code",
      "metadata": {
        "id": "Cd8oOlaGT5e-",
        "colab_type": "code",
        "outputId": "807f1b98-9f93-49f8-b1cf-965c6f64cd1a",
        "colab": {
          "base_uri": "https://localhost:8080/",
          "height": 306
        }
      },
      "source": [
        "# Analysing stay days\n",
        "train['stay_period'].value_counts()"
      ],
      "execution_count": 0,
      "outputs": [
        {
          "output_type": "execute_result",
          "data": {
            "text/plain": [
              "2     119723\n",
              "3     109726\n",
              "1      64829\n",
              "4      33347\n",
              "5       9509\n",
              "6       2655\n",
              "7       1424\n",
              "8        124\n",
              "9         41\n",
              "10        27\n",
              "12         5\n",
              "11         5\n",
              "14         4\n",
              "13         3\n",
              "26         1\n",
              "21         1\n",
              "Name: stay_period, dtype: int64"
            ]
          },
          "metadata": {
            "tags": []
          },
          "execution_count": 241
        }
      ]
    },
    {
      "cell_type": "code",
      "metadata": {
        "id": "fWV15dxvT5wR",
        "colab_type": "code",
        "colab": {}
      },
      "source": [
        "# Bucketing stay days in 1-4, 5-8, 8+\n",
        "bins_stayperiod = pd.IntervalIndex.from_tuples([(0,4),(4,8),(8,26)])\n",
        "train['stay_period_bins'] = pd.cut(train['stay_period'],bins_stayperiod)"
      ],
      "execution_count": 0,
      "outputs": []
    },
    {
      "cell_type": "code",
      "metadata": {
        "id": "d29qyFPBotN2",
        "colab_type": "code",
        "outputId": "7e2b0d51-1c64-42b5-8c98-ece4033b7511",
        "colab": {
          "base_uri": "https://localhost:8080/",
          "height": 85
        }
      },
      "source": [
        "train['stay_period_bins'].value_counts()"
      ],
      "execution_count": 0,
      "outputs": [
        {
          "output_type": "execute_result",
          "data": {
            "text/plain": [
              "(0, 4]     327625\n",
              "(4, 8]      13712\n",
              "(8, 26]        87\n",
              "Name: stay_period_bins, dtype: int64"
            ]
          },
          "metadata": {
            "tags": []
          },
          "execution_count": 243
        }
      ]
    },
    {
      "cell_type": "code",
      "metadata": {
        "id": "miNt7-xKo6pW",
        "colab_type": "code",
        "outputId": "395ad34d-bd31-4265-f771-588a4a3327ed",
        "colab": {
          "base_uri": "https://localhost:8080/",
          "height": 34
        }
      },
      "source": [
        "train['stay_period_bins'].isnull().sum()"
      ],
      "execution_count": 0,
      "outputs": [
        {
          "output_type": "execute_result",
          "data": {
            "text/plain": [
              "0"
            ]
          },
          "metadata": {
            "tags": []
          },
          "execution_count": 244
        }
      ]
    },
    {
      "cell_type": "code",
      "metadata": {
        "id": "RJvBzKexUBye",
        "colab_type": "code",
        "outputId": "d708f13d-a4d0-43df-d400-ce7e936522db",
        "colab": {
          "base_uri": "https://localhost:8080/",
          "height": 782
        }
      },
      "source": [
        "# Analysing roomnight\n",
        "train['roomnights'].value_counts()"
      ],
      "execution_count": 0,
      "outputs": [
        {
          "output_type": "execute_result",
          "data": {
            "text/plain": [
              " 3     94256\n",
              " 2     85105\n",
              " 4     58487\n",
              " 6     36932\n",
              " 1     25777\n",
              " 5     12303\n",
              " 8     10716\n",
              " 9      5107\n",
              " 12     3546\n",
              " 10     2912\n",
              " 7      2883\n",
              " 15      805\n",
              " 16      592\n",
              " 14      496\n",
              " 11      322\n",
              " 18      312\n",
              " 20      215\n",
              " 13      119\n",
              " 21       93\n",
              " 24       89\n",
              " 17       59\n",
              " 30       57\n",
              " 28       50\n",
              " 27       27\n",
              " 19       27\n",
              " 23       19\n",
              " 22       15\n",
              " 25       15\n",
              " 36       12\n",
              " 31       12\n",
              " 26       11\n",
              " 32        9\n",
              " 35        8\n",
              " 47        6\n",
              " 29        5\n",
              " 34        5\n",
              " 37        5\n",
              " 39        5\n",
              " 42        4\n",
              " 33        2\n",
              "-45        1\n",
              " 60        1\n",
              " 41        1\n",
              " 0         1\n",
              "Name: roomnights, dtype: int64"
            ]
          },
          "metadata": {
            "tags": []
          },
          "execution_count": 245
        }
      ]
    },
    {
      "cell_type": "code",
      "metadata": {
        "id": "IWSqtbW-tJEF",
        "colab_type": "code",
        "colab": {}
      },
      "source": [
        "# -45 in the data is incorrect\n",
        "train.loc[train['roomnights'] <0, 'roomnights'] = 7"
      ],
      "execution_count": 0,
      "outputs": []
    },
    {
      "cell_type": "code",
      "metadata": {
        "id": "IXlArUc9UCBI",
        "colab_type": "code",
        "colab": {}
      },
      "source": [
        "# Bucketing roomnights in 0-6, 7-12, 12+\n",
        "bins_roomnights = pd.IntervalIndex.from_tuples([(-1,6),(6,12),(12,100)])\n",
        "train['roomnights_bins'] = pd.cut(train['roomnights'],bins_roomnights)"
      ],
      "execution_count": 0,
      "outputs": []
    },
    {
      "cell_type": "code",
      "metadata": {
        "id": "J-L8t308tfKM",
        "colab_type": "code",
        "outputId": "80618e3a-ad63-486d-d9de-dc9bdf7fd929",
        "colab": {
          "base_uri": "https://localhost:8080/",
          "height": 85
        }
      },
      "source": [
        "train['roomnights_bins'].value_counts()"
      ],
      "execution_count": 0,
      "outputs": [
        {
          "output_type": "execute_result",
          "data": {
            "text/plain": [
              "(-1, 6]      312861\n",
              "(6, 12]       25487\n",
              "(12, 100]      3076\n",
              "Name: roomnights_bins, dtype: int64"
            ]
          },
          "metadata": {
            "tags": []
          },
          "execution_count": 248
        }
      ]
    },
    {
      "cell_type": "code",
      "metadata": {
        "id": "KuJY8qX8tr4S",
        "colab_type": "code",
        "outputId": "7e74770d-cdd4-4346-8ece-16c66eeff9d9",
        "colab": {
          "base_uri": "https://localhost:8080/",
          "height": 34
        }
      },
      "source": [
        "train['roomnights_bins'].isnull().sum()"
      ],
      "execution_count": 0,
      "outputs": [
        {
          "output_type": "execute_result",
          "data": {
            "text/plain": [
              "0"
            ]
          },
          "metadata": {
            "tags": []
          },
          "execution_count": 249
        }
      ]
    },
    {
      "cell_type": "code",
      "metadata": {
        "id": "_nv-vRGBAmMs",
        "colab_type": "code",
        "colab": {}
      },
      "source": [
        "train['roomnights_bins'] = train['roomnights_bins'].astype('str')\n",
        "train['stay_period_bins'] = train['stay_period_bins'].astype('str')\n",
        "train['numberofadults_bins'] = train['numberofadults_bins'].astype('str')"
      ],
      "execution_count": 0,
      "outputs": []
    },
    {
      "cell_type": "markdown",
      "metadata": {
        "id": "nu9-aETU0Zgb",
        "colab_type": "text"
      },
      "source": [
        "Extracting features from memberids features"
      ]
    },
    {
      "cell_type": "code",
      "metadata": {
        "id": "aSWneRRIUHBZ",
        "colab_type": "code",
        "outputId": "297bd1a4-ebd8-4a33-c172-77cfd163c8a1",
        "colab": {
          "base_uri": "https://localhost:8080/",
          "height": 34
        }
      },
      "source": [
        "# Are memberids in test and train the same? -- No overlap\n",
        "set(train.memberid.unique()).intersection(set(test.memberid.unique()))"
      ],
      "execution_count": 0,
      "outputs": [
        {
          "output_type": "execute_result",
          "data": {
            "text/plain": [
              "set()"
            ]
          },
          "metadata": {
            "tags": []
          },
          "execution_count": 251
        }
      ]
    },
    {
      "cell_type": "code",
      "metadata": {
        "id": "Y2UNaFXEwBxR",
        "colab_type": "code",
        "outputId": "f68e5d3a-96ce-41ac-de7c-6dbebeccd9ea",
        "colab": {
          "base_uri": "https://localhost:8080/",
          "height": 34
        }
      },
      "source": [
        "# unique member_ids\n",
        "train.memberid.nunique()"
      ],
      "execution_count": 0,
      "outputs": [
        {
          "output_type": "execute_result",
          "data": {
            "text/plain": [
              "101327"
            ]
          },
          "metadata": {
            "tags": []
          },
          "execution_count": 252
        }
      ]
    },
    {
      "cell_type": "code",
      "metadata": {
        "id": "RjpNqQtBz-fG",
        "colab_type": "code",
        "outputId": "06e93f27-f122-44bb-e9c0-01eba0822b83",
        "colab": {
          "base_uri": "https://localhost:8080/",
          "height": 34
        }
      },
      "source": [
        "# total records\n",
        "train.shape[0]"
      ],
      "execution_count": 0,
      "outputs": [
        {
          "output_type": "execute_result",
          "data": {
            "text/plain": [
              "341424"
            ]
          },
          "metadata": {
            "tags": []
          },
          "execution_count": 253
        }
      ]
    },
    {
      "cell_type": "code",
      "metadata": {
        "id": "7G6222hCz1bN",
        "colab_type": "code",
        "colab": {}
      },
      "source": [
        "# No of bookings per memberid\n",
        "member_booking = train.groupby(by = 'memberid').count()['reservation_id'].reset_index()"
      ],
      "execution_count": 0,
      "outputs": []
    },
    {
      "cell_type": "code",
      "metadata": {
        "id": "qVYsjsWL2naW",
        "colab_type": "code",
        "outputId": "e8a9b488-44ab-42e1-cca3-ccd2b452ec73",
        "colab": {
          "base_uri": "https://localhost:8080/",
          "height": 34
        }
      },
      "source": [
        "type(member_booking)"
      ],
      "execution_count": 0,
      "outputs": [
        {
          "output_type": "execute_result",
          "data": {
            "text/plain": [
              "pandas.core.frame.DataFrame"
            ]
          },
          "metadata": {
            "tags": []
          },
          "execution_count": 255
        }
      ]
    },
    {
      "cell_type": "code",
      "metadata": {
        "id": "WVlf6NpH3Pid",
        "colab_type": "code",
        "colab": {}
      },
      "source": [
        "member_booking.columns = ['member_id', 'no_of_bookings']"
      ],
      "execution_count": 0,
      "outputs": []
    },
    {
      "cell_type": "code",
      "metadata": {
        "id": "ESuEyCh84F2l",
        "colab_type": "code",
        "outputId": "e111699a-5751-49f3-b8e6-a71810d1ad85",
        "colab": {
          "base_uri": "https://localhost:8080/",
          "height": 204
        }
      },
      "source": [
        "member_booking.head()"
      ],
      "execution_count": 0,
      "outputs": [
        {
          "output_type": "execute_result",
          "data": {
            "text/html": [
              "<div>\n",
              "<style scoped>\n",
              "    .dataframe tbody tr th:only-of-type {\n",
              "        vertical-align: middle;\n",
              "    }\n",
              "\n",
              "    .dataframe tbody tr th {\n",
              "        vertical-align: top;\n",
              "    }\n",
              "\n",
              "    .dataframe thead th {\n",
              "        text-align: right;\n",
              "    }\n",
              "</style>\n",
              "<table border=\"1\" class=\"dataframe\">\n",
              "  <thead>\n",
              "    <tr style=\"text-align: right;\">\n",
              "      <th></th>\n",
              "      <th>member_id</th>\n",
              "      <th>no_of_bookings</th>\n",
              "    </tr>\n",
              "  </thead>\n",
              "  <tbody>\n",
              "    <tr>\n",
              "      <th>0</th>\n",
              "      <td>00005d44634de09d36aaa5ccb20b67223ec9406c532335...</td>\n",
              "      <td>4</td>\n",
              "    </tr>\n",
              "    <tr>\n",
              "      <th>1</th>\n",
              "      <td>0000a957d528a2df1dc9ed2314bc009e8666e75a2d6c23...</td>\n",
              "      <td>2</td>\n",
              "    </tr>\n",
              "    <tr>\n",
              "      <th>2</th>\n",
              "      <td>00016b96386f53adf2ea4beee032a8793e66e6ddd0ed28...</td>\n",
              "      <td>2</td>\n",
              "    </tr>\n",
              "    <tr>\n",
              "      <th>3</th>\n",
              "      <td>00021328914515303c6992143d1f0bedaf1564dc607b72...</td>\n",
              "      <td>1</td>\n",
              "    </tr>\n",
              "    <tr>\n",
              "      <th>4</th>\n",
              "      <td>000218e18abc5d2e73212e064983cd4433f7969fd908a6...</td>\n",
              "      <td>4</td>\n",
              "    </tr>\n",
              "  </tbody>\n",
              "</table>\n",
              "</div>"
            ],
            "text/plain": [
              "                                           member_id  no_of_bookings\n",
              "0  00005d44634de09d36aaa5ccb20b67223ec9406c532335...               4\n",
              "1  0000a957d528a2df1dc9ed2314bc009e8666e75a2d6c23...               2\n",
              "2  00016b96386f53adf2ea4beee032a8793e66e6ddd0ed28...               2\n",
              "3  00021328914515303c6992143d1f0bedaf1564dc607b72...               1\n",
              "4  000218e18abc5d2e73212e064983cd4433f7969fd908a6...               4"
            ]
          },
          "metadata": {
            "tags": []
          },
          "execution_count": 257
        }
      ]
    },
    {
      "cell_type": "code",
      "metadata": {
        "id": "I0xX6BOE4KF1",
        "colab_type": "code",
        "colab": {}
      },
      "source": [
        "train = pd.merge(train,\n",
        "                 member_booking[['member_id','no_of_bookings']],\n",
        "                 left_on = 'memberid',\n",
        "                 right_on = 'member_id',\n",
        "                 how = 'left'\n",
        "                 )"
      ],
      "execution_count": 0,
      "outputs": []
    },
    {
      "cell_type": "code",
      "metadata": {
        "id": "d_o7Mtul5zpn",
        "colab_type": "code",
        "outputId": "605aa4d2-e40c-4e63-a61b-f732c5f370d9",
        "colab": {
          "base_uri": "https://localhost:8080/",
          "height": 253
        }
      },
      "source": [
        "train.head()"
      ],
      "execution_count": 0,
      "outputs": [
        {
          "output_type": "execute_result",
          "data": {
            "text/html": [
              "<div>\n",
              "<style scoped>\n",
              "    .dataframe tbody tr th:only-of-type {\n",
              "        vertical-align: middle;\n",
              "    }\n",
              "\n",
              "    .dataframe tbody tr th {\n",
              "        vertical-align: top;\n",
              "    }\n",
              "\n",
              "    .dataframe thead th {\n",
              "        text-align: right;\n",
              "    }\n",
              "</style>\n",
              "<table border=\"1\" class=\"dataframe\">\n",
              "  <thead>\n",
              "    <tr style=\"text-align: right;\">\n",
              "      <th></th>\n",
              "      <th>reservation_id</th>\n",
              "      <th>booking_date</th>\n",
              "      <th>checkin_date</th>\n",
              "      <th>checkout_date</th>\n",
              "      <th>channel_code</th>\n",
              "      <th>main_product_code</th>\n",
              "      <th>numberofadults</th>\n",
              "      <th>numberofchildren</th>\n",
              "      <th>persontravellingid</th>\n",
              "      <th>resort_region_code</th>\n",
              "      <th>...</th>\n",
              "      <th>booking_month</th>\n",
              "      <th>checkin_weekday</th>\n",
              "      <th>checkin_weeknumber</th>\n",
              "      <th>booking_weekday</th>\n",
              "      <th>booking_weeknumber</th>\n",
              "      <th>numberofadults_bins</th>\n",
              "      <th>stay_period_bins</th>\n",
              "      <th>roomnights_bins</th>\n",
              "      <th>member_id</th>\n",
              "      <th>no_of_bookings</th>\n",
              "    </tr>\n",
              "  </thead>\n",
              "  <tbody>\n",
              "    <tr>\n",
              "      <th>0</th>\n",
              "      <td>07659f3758d8aee27f5a7e2887adeacb67021cb95ada1b...</td>\n",
              "      <td>2018-04-05</td>\n",
              "      <td>2018-04-05</td>\n",
              "      <td>2018-04-06</td>\n",
              "      <td>3</td>\n",
              "      <td>1</td>\n",
              "      <td>2</td>\n",
              "      <td>0</td>\n",
              "      <td>46</td>\n",
              "      <td>3</td>\n",
              "      <td>...</td>\n",
              "      <td>4</td>\n",
              "      <td>3</td>\n",
              "      <td>14</td>\n",
              "      <td>3</td>\n",
              "      <td>14</td>\n",
              "      <td>(-1, 8]</td>\n",
              "      <td>(0, 4]</td>\n",
              "      <td>(-1, 6]</td>\n",
              "      <td>3d1539e56495b6991f0a3ef5a61ca3d03ce4fff7380e9a...</td>\n",
              "      <td>14</td>\n",
              "    </tr>\n",
              "    <tr>\n",
              "      <th>1</th>\n",
              "      <td>03930f033646d073462b35d411616323597715ac4fc398...</td>\n",
              "      <td>2015-01-23</td>\n",
              "      <td>2015-04-11</td>\n",
              "      <td>2015-04-16</td>\n",
              "      <td>1</td>\n",
              "      <td>1</td>\n",
              "      <td>2</td>\n",
              "      <td>0</td>\n",
              "      <td>46</td>\n",
              "      <td>3</td>\n",
              "      <td>...</td>\n",
              "      <td>1</td>\n",
              "      <td>5</td>\n",
              "      <td>15</td>\n",
              "      <td>4</td>\n",
              "      <td>4</td>\n",
              "      <td>(-1, 8]</td>\n",
              "      <td>(4, 8]</td>\n",
              "      <td>(-1, 6]</td>\n",
              "      <td>3d1539e56495b6991f0a3ef5a61ca3d03ce4fff7380e9a...</td>\n",
              "      <td>14</td>\n",
              "    </tr>\n",
              "    <tr>\n",
              "      <th>2</th>\n",
              "      <td>d145a32920e6587ad95bfe299d80c0affa268220535aaf...</td>\n",
              "      <td>2015-01-28</td>\n",
              "      <td>2015-02-01</td>\n",
              "      <td>2015-02-05</td>\n",
              "      <td>1</td>\n",
              "      <td>1</td>\n",
              "      <td>2</td>\n",
              "      <td>0</td>\n",
              "      <td>47</td>\n",
              "      <td>1</td>\n",
              "      <td>...</td>\n",
              "      <td>1</td>\n",
              "      <td>6</td>\n",
              "      <td>5</td>\n",
              "      <td>2</td>\n",
              "      <td>5</td>\n",
              "      <td>(-1, 8]</td>\n",
              "      <td>(0, 4]</td>\n",
              "      <td>(-1, 6]</td>\n",
              "      <td>3d1539e56495b6991f0a3ef5a61ca3d03ce4fff7380e9a...</td>\n",
              "      <td>14</td>\n",
              "    </tr>\n",
              "    <tr>\n",
              "      <th>3</th>\n",
              "      <td>cfd77f44811ed62f25a220b53324cdbafc662a4c9e5f04...</td>\n",
              "      <td>2015-05-02</td>\n",
              "      <td>2015-06-11</td>\n",
              "      <td>2015-06-16</td>\n",
              "      <td>1</td>\n",
              "      <td>1</td>\n",
              "      <td>2</td>\n",
              "      <td>2</td>\n",
              "      <td>46</td>\n",
              "      <td>2</td>\n",
              "      <td>...</td>\n",
              "      <td>5</td>\n",
              "      <td>3</td>\n",
              "      <td>24</td>\n",
              "      <td>5</td>\n",
              "      <td>18</td>\n",
              "      <td>(-1, 8]</td>\n",
              "      <td>(4, 8]</td>\n",
              "      <td>(-1, 6]</td>\n",
              "      <td>3d1539e56495b6991f0a3ef5a61ca3d03ce4fff7380e9a...</td>\n",
              "      <td>14</td>\n",
              "    </tr>\n",
              "    <tr>\n",
              "      <th>4</th>\n",
              "      <td>937cff9e4dcfc2459620153dfc8b9962ac22bea67dfb29...</td>\n",
              "      <td>2015-09-02</td>\n",
              "      <td>2015-12-14</td>\n",
              "      <td>2015-12-19</td>\n",
              "      <td>1</td>\n",
              "      <td>1</td>\n",
              "      <td>2</td>\n",
              "      <td>0</td>\n",
              "      <td>46</td>\n",
              "      <td>2</td>\n",
              "      <td>...</td>\n",
              "      <td>9</td>\n",
              "      <td>0</td>\n",
              "      <td>51</td>\n",
              "      <td>2</td>\n",
              "      <td>36</td>\n",
              "      <td>(-1, 8]</td>\n",
              "      <td>(4, 8]</td>\n",
              "      <td>(-1, 6]</td>\n",
              "      <td>3d1539e56495b6991f0a3ef5a61ca3d03ce4fff7380e9a...</td>\n",
              "      <td>14</td>\n",
              "    </tr>\n",
              "  </tbody>\n",
              "</table>\n",
              "<p>5 rows × 39 columns</p>\n",
              "</div>"
            ],
            "text/plain": [
              "                                      reservation_id booking_date  \\\n",
              "0  07659f3758d8aee27f5a7e2887adeacb67021cb95ada1b...   2018-04-05   \n",
              "1  03930f033646d073462b35d411616323597715ac4fc398...   2015-01-23   \n",
              "2  d145a32920e6587ad95bfe299d80c0affa268220535aaf...   2015-01-28   \n",
              "3  cfd77f44811ed62f25a220b53324cdbafc662a4c9e5f04...   2015-05-02   \n",
              "4  937cff9e4dcfc2459620153dfc8b9962ac22bea67dfb29...   2015-09-02   \n",
              "\n",
              "  checkin_date checkout_date  channel_code  main_product_code  numberofadults  \\\n",
              "0   2018-04-05    2018-04-06             3                  1               2   \n",
              "1   2015-04-11    2015-04-16             1                  1               2   \n",
              "2   2015-02-01    2015-02-05             1                  1               2   \n",
              "3   2015-06-11    2015-06-16             1                  1               2   \n",
              "4   2015-12-14    2015-12-19             1                  1               2   \n",
              "\n",
              "   numberofchildren  persontravellingid  resort_region_code  ...  \\\n",
              "0                 0                  46                   3  ...   \n",
              "1                 0                  46                   3  ...   \n",
              "2                 0                  47                   1  ...   \n",
              "3                 2                  46                   2  ...   \n",
              "4                 0                  46                   2  ...   \n",
              "\n",
              "   booking_month  checkin_weekday  checkin_weeknumber  booking_weekday  \\\n",
              "0              4                3                  14                3   \n",
              "1              1                5                  15                4   \n",
              "2              1                6                   5                2   \n",
              "3              5                3                  24                5   \n",
              "4              9                0                  51                2   \n",
              "\n",
              "   booking_weeknumber  numberofadults_bins  stay_period_bins roomnights_bins  \\\n",
              "0                  14              (-1, 8]            (0, 4]         (-1, 6]   \n",
              "1                   4              (-1, 8]            (4, 8]         (-1, 6]   \n",
              "2                   5              (-1, 8]            (0, 4]         (-1, 6]   \n",
              "3                  18              (-1, 8]            (4, 8]         (-1, 6]   \n",
              "4                  36              (-1, 8]            (4, 8]         (-1, 6]   \n",
              "\n",
              "                                           member_id no_of_bookings  \n",
              "0  3d1539e56495b6991f0a3ef5a61ca3d03ce4fff7380e9a...             14  \n",
              "1  3d1539e56495b6991f0a3ef5a61ca3d03ce4fff7380e9a...             14  \n",
              "2  3d1539e56495b6991f0a3ef5a61ca3d03ce4fff7380e9a...             14  \n",
              "3  3d1539e56495b6991f0a3ef5a61ca3d03ce4fff7380e9a...             14  \n",
              "4  3d1539e56495b6991f0a3ef5a61ca3d03ce4fff7380e9a...             14  \n",
              "\n",
              "[5 rows x 39 columns]"
            ]
          },
          "metadata": {
            "tags": []
          },
          "execution_count": 259
        }
      ]
    },
    {
      "cell_type": "code",
      "metadata": {
        "id": "3xVnH0p96Ala",
        "colab_type": "code",
        "colab": {}
      },
      "source": [
        "train.drop(columns = ['member_id'], axis = 1, inplace =True)"
      ],
      "execution_count": 0,
      "outputs": []
    },
    {
      "cell_type": "code",
      "metadata": {
        "id": "qMAlyeBV6k6l",
        "colab_type": "code",
        "colab": {}
      },
      "source": [
        "# Average length of stay\n",
        "member_avg_stay = train.groupby('memberid').mean()['stay_period'].reset_index()"
      ],
      "execution_count": 0,
      "outputs": []
    },
    {
      "cell_type": "code",
      "metadata": {
        "id": "CTRcnvzx8b6d",
        "colab_type": "code",
        "colab": {}
      },
      "source": [
        "member_avg_stay.columns = ['memberid','member_avg_stay_period']"
      ],
      "execution_count": 0,
      "outputs": []
    },
    {
      "cell_type": "code",
      "metadata": {
        "id": "LbEXhq9w8ovl",
        "colab_type": "code",
        "outputId": "2a08c7a4-2016-48b4-bb2f-94e478af0cfb",
        "colab": {
          "base_uri": "https://localhost:8080/",
          "height": 204
        }
      },
      "source": [
        "member_avg_stay.head()"
      ],
      "execution_count": 0,
      "outputs": [
        {
          "output_type": "execute_result",
          "data": {
            "text/html": [
              "<div>\n",
              "<style scoped>\n",
              "    .dataframe tbody tr th:only-of-type {\n",
              "        vertical-align: middle;\n",
              "    }\n",
              "\n",
              "    .dataframe tbody tr th {\n",
              "        vertical-align: top;\n",
              "    }\n",
              "\n",
              "    .dataframe thead th {\n",
              "        text-align: right;\n",
              "    }\n",
              "</style>\n",
              "<table border=\"1\" class=\"dataframe\">\n",
              "  <thead>\n",
              "    <tr style=\"text-align: right;\">\n",
              "      <th></th>\n",
              "      <th>memberid</th>\n",
              "      <th>member_avg_stay_period</th>\n",
              "    </tr>\n",
              "  </thead>\n",
              "  <tbody>\n",
              "    <tr>\n",
              "      <th>0</th>\n",
              "      <td>00005d44634de09d36aaa5ccb20b67223ec9406c532335...</td>\n",
              "      <td>2.50</td>\n",
              "    </tr>\n",
              "    <tr>\n",
              "      <th>1</th>\n",
              "      <td>0000a957d528a2df1dc9ed2314bc009e8666e75a2d6c23...</td>\n",
              "      <td>3.00</td>\n",
              "    </tr>\n",
              "    <tr>\n",
              "      <th>2</th>\n",
              "      <td>00016b96386f53adf2ea4beee032a8793e66e6ddd0ed28...</td>\n",
              "      <td>3.00</td>\n",
              "    </tr>\n",
              "    <tr>\n",
              "      <th>3</th>\n",
              "      <td>00021328914515303c6992143d1f0bedaf1564dc607b72...</td>\n",
              "      <td>2.00</td>\n",
              "    </tr>\n",
              "    <tr>\n",
              "      <th>4</th>\n",
              "      <td>000218e18abc5d2e73212e064983cd4433f7969fd908a6...</td>\n",
              "      <td>2.25</td>\n",
              "    </tr>\n",
              "  </tbody>\n",
              "</table>\n",
              "</div>"
            ],
            "text/plain": [
              "                                            memberid  member_avg_stay_period\n",
              "0  00005d44634de09d36aaa5ccb20b67223ec9406c532335...                    2.50\n",
              "1  0000a957d528a2df1dc9ed2314bc009e8666e75a2d6c23...                    3.00\n",
              "2  00016b96386f53adf2ea4beee032a8793e66e6ddd0ed28...                    3.00\n",
              "3  00021328914515303c6992143d1f0bedaf1564dc607b72...                    2.00\n",
              "4  000218e18abc5d2e73212e064983cd4433f7969fd908a6...                    2.25"
            ]
          },
          "metadata": {
            "tags": []
          },
          "execution_count": 263
        }
      ]
    },
    {
      "cell_type": "code",
      "metadata": {
        "id": "Zt9WOyG68r1e",
        "colab_type": "code",
        "colab": {}
      },
      "source": [
        "train = pd.merge(train,\n",
        "                member_avg_stay[['memberid','member_avg_stay_period']],\n",
        "                on = 'memberid',\n",
        "                how = 'left'\n",
        "                )"
      ],
      "execution_count": 0,
      "outputs": []
    },
    {
      "cell_type": "code",
      "metadata": {
        "id": "aAP2IhFS9QKC",
        "colab_type": "code",
        "colab": {}
      },
      "source": [
        "# Total length of stay\n",
        "member_tot_stay = train.groupby('memberid').sum()['stay_period'].reset_index()\n",
        "member_tot_stay.columns = ['memberid','member_tot_stay']\n",
        "train = pd.merge(train,\n",
        "                member_tot_stay[['memberid','member_tot_stay']],\n",
        "                on = 'memberid',\n",
        "                how = 'left'\n",
        "                )"
      ],
      "execution_count": 0,
      "outputs": []
    },
    {
      "cell_type": "code",
      "metadata": {
        "id": "S1jbhu6C9SuP",
        "colab_type": "code",
        "colab": {}
      },
      "source": [
        "# Average no of travellers\n",
        "member_avg_trvlr = train.groupby('memberid').mean()['total_visitors'].reset_index()\n",
        "member_avg_trvlr.columns = ['memberid','member_avg_trvlr']\n",
        "train = pd.merge(train,\n",
        "                member_avg_trvlr[['memberid','member_avg_trvlr']],\n",
        "                on = 'memberid',\n",
        "                how = 'left'\n",
        "                )"
      ],
      "execution_count": 0,
      "outputs": []
    },
    {
      "cell_type": "code",
      "metadata": {
        "id": "fieg1lAovLZv",
        "colab_type": "code",
        "colab": {}
      },
      "source": [
        "# Total no of travellers\n",
        "member_tot_trvlr = train.groupby('memberid').sum()['total_visitors'].reset_index()\n",
        "member_tot_trvlr.columns = ['memberid','member_tot_trvlr']\n",
        "train = pd.merge(train,\n",
        "                member_tot_trvlr[['memberid','member_tot_trvlr']],\n",
        "                on = 'memberid',\n",
        "                how = 'left'\n",
        "                )"
      ],
      "execution_count": 0,
      "outputs": []
    },
    {
      "cell_type": "code",
      "metadata": {
        "id": "YriGfHbt-5KW",
        "colab_type": "code",
        "outputId": "767c4295-e1c0-40aa-f66f-8e0b5fa70cef",
        "colab": {
          "base_uri": "https://localhost:8080/",
          "height": 255
        }
      },
      "source": [
        "train.columns"
      ],
      "execution_count": 0,
      "outputs": [
        {
          "output_type": "execute_result",
          "data": {
            "text/plain": [
              "Index(['reservation_id', 'booking_date', 'checkin_date', 'checkout_date',\n",
              "       'channel_code', 'main_product_code', 'numberofadults',\n",
              "       'numberofchildren', 'persontravellingid', 'resort_region_code',\n",
              "       'resort_type_code', 'room_type_booked_code', 'roomnights',\n",
              "       'season_holidayed_code', 'state_code_residence', 'state_code_resort',\n",
              "       'total_pax', 'member_age_buckets', 'booking_type_code', 'memberid',\n",
              "       'cluster_code', 'reservationstatusid_code', 'resort_id',\n",
              "       'amount_spent_per_room_night_scaled', 'total_visitors', 'children_yn',\n",
              "       'advance_book_period', 'stay_period', 'checkin_month', 'booking_month',\n",
              "       'checkin_weekday', 'checkin_weeknumber', 'booking_weekday',\n",
              "       'booking_weeknumber', 'numberofadults_bins', 'stay_period_bins',\n",
              "       'roomnights_bins', 'no_of_bookings', 'member_avg_stay_period',\n",
              "       'member_tot_stay', 'member_avg_trvlr', 'member_tot_trvlr'],\n",
              "      dtype='object')"
            ]
          },
          "metadata": {
            "tags": []
          },
          "execution_count": 268
        }
      ]
    },
    {
      "cell_type": "code",
      "metadata": {
        "id": "ezkM0hyZJnQR",
        "colab_type": "code",
        "outputId": "243cf380-080b-4fa0-8efb-382994bdfe7c",
        "colab": {
          "base_uri": "https://localhost:8080/",
          "height": 748
        }
      },
      "source": [
        "train.dtypes"
      ],
      "execution_count": 0,
      "outputs": [
        {
          "output_type": "execute_result",
          "data": {
            "text/plain": [
              "reservation_id                                object\n",
              "booking_date                          datetime64[ns]\n",
              "checkin_date                          datetime64[ns]\n",
              "checkout_date                         datetime64[ns]\n",
              "channel_code                                   int64\n",
              "main_product_code                              int64\n",
              "numberofadults                                 int64\n",
              "numberofchildren                               int64\n",
              "persontravellingid                             int64\n",
              "resort_region_code                             int64\n",
              "resort_type_code                               int64\n",
              "room_type_booked_code                          int64\n",
              "roomnights                                     int64\n",
              "season_holidayed_code                        float64\n",
              "state_code_residence                         float64\n",
              "state_code_resort                              int64\n",
              "total_pax                                      int64\n",
              "member_age_buckets                            object\n",
              "booking_type_code                              int64\n",
              "memberid                                      object\n",
              "cluster_code                                  object\n",
              "reservationstatusid_code                      object\n",
              "resort_id                                     object\n",
              "amount_spent_per_room_night_scaled           float64\n",
              "total_visitors                                 int64\n",
              "children_yn                                     bool\n",
              "advance_book_period                            int64\n",
              "stay_period                                    int64\n",
              "checkin_month                                 object\n",
              "booking_month                                 object\n",
              "checkin_weekday                               object\n",
              "checkin_weeknumber                            object\n",
              "booking_weekday                               object\n",
              "booking_weeknumber                            object\n",
              "numberofadults_bins                           object\n",
              "stay_period_bins                              object\n",
              "roomnights_bins                               object\n",
              "no_of_bookings                                 int64\n",
              "member_avg_stay_period                       float64\n",
              "member_tot_stay                                int64\n",
              "member_avg_trvlr                             float64\n",
              "member_tot_trvlr                               int64\n",
              "dtype: object"
            ]
          },
          "metadata": {
            "tags": []
          },
          "execution_count": 269
        }
      ]
    },
    {
      "cell_type": "code",
      "metadata": {
        "id": "s1wZy3heJ2N1",
        "colab_type": "code",
        "colab": {}
      },
      "source": [
        "# Updating test data\n",
        "test['total_visitors'] = test['numberofadults'] + test['numberofchildren']\n",
        "test['children_yn'] = test['numberofchildren'] > 0\n",
        "test['advance_book_period'] = (test['checkin_date'] - test['booking_date']).dt.days\n",
        "test['stay_period'] = (test['checkout_date'] - test['checkin_date']).dt.days\n",
        "test['checkin_month'] = test['checkin_date'].dt.month.astype('str')\n",
        "test['booking_month'] = test['booking_date'].dt.month.astype('str')\n",
        "test['checkin_weekday'] = test['checkin_date'].dt.weekday.astype('str')\n",
        "test['checkin_weeknumber'] = test['checkin_date'].dt.week.astype('str')\n",
        "test['booking_weekday'] = test['booking_date'].dt.weekday.astype('str')\n",
        "test['booking_weeknumber'] = test['booking_date'].dt.week.astype('str')\n",
        "test['numberofadults_bins'] = pd.cut(test['numberofadults'],bins)\n",
        "test['stay_period_bins'] = pd.cut(test['stay_period'],bins_stayperiod)\n",
        "test['roomnights_bins'] = pd.cut(test['roomnights'],bins_roomnights)\n",
        "test['roomnights_bins'] = test['roomnights_bins'].astype('str')\n",
        "test['stay_period_bins'] = test['stay_period_bins'].astype('str')\n",
        "test['numberofadults_bins'] = test['numberofadults_bins'].astype('str')\n",
        "\n",
        "member_booking = test.groupby(by = 'memberid').count()['reservation_id'].reset_index()\n",
        "member_booking.columns = ['memberid', 'no_of_bookings']\n",
        "test = pd.merge(test,\n",
        "                 member_booking[['memberid','no_of_bookings']],\n",
        "                 on = 'memberid',\n",
        "                 how = 'left'\n",
        "                 )\n",
        "\t\t\t\t \n",
        "member_avg_stay = test.groupby('memberid').mean()['stay_period'].reset_index()\n",
        "member_avg_stay.columns = ['memberid','member_avg_stay_period']\n",
        "test = pd.merge(test,\n",
        "                member_avg_stay[['memberid','member_avg_stay_period']],\n",
        "                on = 'memberid',\n",
        "                how = 'left'\n",
        "                )\n",
        "\n",
        "# Total length of stay\n",
        "member_tot_stay = test.groupby('memberid').sum()['stay_period'].reset_index()\n",
        "member_tot_stay.columns = ['memberid','member_tot_stay']\n",
        "test = pd.merge(test,\n",
        "                member_tot_stay[['memberid','member_tot_stay']],\n",
        "                on = 'memberid',\n",
        "                how = 'left'\n",
        "                )\n",
        "\t\t\t\t\n",
        "# Average no of travellers\n",
        "member_avg_trvlr = test.groupby('memberid').mean()['total_visitors'].reset_index()\n",
        "member_avg_trvlr.columns = ['memberid','member_avg_trvlr']\n",
        "test = pd.merge(test,\n",
        "                member_avg_trvlr[['memberid','member_avg_trvlr']],\n",
        "                on = 'memberid',\n",
        "                how = 'left'\n",
        "                )\n",
        "\t\t\t\t\n",
        "# Total no of travellers\n",
        "member_tot_trvlr = test.groupby('memberid').sum()['total_visitors'].reset_index()\n",
        "member_tot_trvlr.columns = ['memberid','member_tot_trvlr']\n",
        "test = pd.merge(test,\n",
        "                member_tot_trvlr[['memberid','member_tot_trvlr']],\n",
        "                on = 'memberid',\n",
        "                how = 'left'\n",
        "                )"
      ],
      "execution_count": 0,
      "outputs": []
    },
    {
      "cell_type": "markdown",
      "metadata": {
        "id": "n59QvDzEgW4s",
        "colab_type": "text"
      },
      "source": [
        "# **Model**"
      ]
    },
    {
      "cell_type": "markdown",
      "metadata": {
        "id": "EAGYDCdTzNVl",
        "colab_type": "text"
      },
      "source": [
        "**CatBoost**"
      ]
    },
    {
      "cell_type": "code",
      "metadata": {
        "id": "8AWTz31ysgSB",
        "colab_type": "code",
        "colab": {}
      },
      "source": [
        "X= train.copy()\n",
        "y = train.iloc[:,23]"
      ],
      "execution_count": 0,
      "outputs": []
    },
    {
      "cell_type": "code",
      "metadata": {
        "id": "rHZUkTsGhDb3",
        "colab_type": "code",
        "outputId": "c58ef618-77e3-415e-cfae-6ff9cf1e2bb7",
        "colab": {
          "base_uri": "https://localhost:8080/",
          "height": 255
        }
      },
      "source": [
        "train.columns"
      ],
      "execution_count": 0,
      "outputs": [
        {
          "output_type": "execute_result",
          "data": {
            "text/plain": [
              "Index(['reservation_id', 'booking_date', 'checkin_date', 'checkout_date',\n",
              "       'channel_code', 'main_product_code', 'numberofadults',\n",
              "       'numberofchildren', 'persontravellingid', 'resort_region_code',\n",
              "       'resort_type_code', 'room_type_booked_code', 'roomnights',\n",
              "       'season_holidayed_code', 'state_code_residence', 'state_code_resort',\n",
              "       'total_pax', 'member_age_buckets', 'booking_type_code', 'memberid',\n",
              "       'cluster_code', 'reservationstatusid_code', 'resort_id',\n",
              "       'amount_spent_per_room_night_scaled', 'total_visitors', 'children_yn',\n",
              "       'advance_book_period', 'stay_period', 'checkin_month', 'booking_month',\n",
              "       'checkin_weekday', 'checkin_weeknumber', 'booking_weekday',\n",
              "       'booking_weeknumber', 'numberofadults_bins', 'stay_period_bins',\n",
              "       'roomnights_bins', 'no_of_bookings', 'member_avg_stay_period',\n",
              "       'member_tot_stay', 'member_avg_trvlr', 'member_tot_trvlr'],\n",
              "      dtype='object')"
            ]
          },
          "metadata": {
            "tags": []
          },
          "execution_count": 272
        }
      ]
    },
    {
      "cell_type": "code",
      "metadata": {
        "id": "S2_LP4exhOEw",
        "colab_type": "code",
        "colab": {}
      },
      "source": [
        "X.drop(columns = ['reservation_id','amount_spent_per_room_night_scaled', 'booking_date', 'checkin_date', 'checkout_date','memberid'], axis = 1 , inplace = True)"
      ],
      "execution_count": 0,
      "outputs": []
    },
    {
      "cell_type": "code",
      "metadata": {
        "id": "ZzrALyWihjlX",
        "colab_type": "code",
        "colab": {}
      },
      "source": [
        "from sklearn.model_selection import train_test_split \n",
        "x_train, x_val , y_train, y_val = train_test_split(X,y,test_size=0.20)"
      ],
      "execution_count": 0,
      "outputs": []
    },
    {
      "cell_type": "code",
      "metadata": {
        "id": "YgXj1PpJMu7F",
        "colab_type": "code",
        "outputId": "6c5e06cc-53c1-4477-e618-4174826a2f43",
        "colab": {
          "base_uri": "https://localhost:8080/",
          "height": 238
        }
      },
      "source": [
        "X.columns"
      ],
      "execution_count": 0,
      "outputs": [
        {
          "output_type": "execute_result",
          "data": {
            "text/plain": [
              "Index(['channel_code', 'main_product_code', 'numberofadults',\n",
              "       'numberofchildren', 'persontravellingid', 'resort_region_code',\n",
              "       'resort_type_code', 'room_type_booked_code', 'roomnights',\n",
              "       'season_holidayed_code', 'state_code_residence', 'state_code_resort',\n",
              "       'total_pax', 'member_age_buckets', 'booking_type_code', 'cluster_code',\n",
              "       'reservationstatusid_code', 'resort_id', 'total_visitors',\n",
              "       'children_yn', 'advance_book_period', 'stay_period', 'checkin_month',\n",
              "       'booking_month', 'checkin_weekday', 'checkin_weeknumber',\n",
              "       'booking_weekday', 'booking_weeknumber', 'numberofadults_bins',\n",
              "       'stay_period_bins', 'roomnights_bins', 'no_of_bookings',\n",
              "       'member_avg_stay_period', 'member_tot_stay', 'member_avg_trvlr',\n",
              "       'member_tot_trvlr'],\n",
              "      dtype='object')"
            ]
          },
          "metadata": {
            "tags": []
          },
          "execution_count": 275
        }
      ]
    },
    {
      "cell_type": "code",
      "metadata": {
        "id": "HlWEyGEsiGno",
        "colab_type": "code",
        "colab": {}
      },
      "source": [
        "categ_column = ['channel_code','main_product_code','persontravellingid','resort_region_code',\n",
        "                'resort_type_code','room_type_booked_code','season_holidayed_code','state_code_residence',\n",
        "                'state_code_resort','member_age_buckets','booking_type_code','cluster_code',\n",
        "                'reservationstatusid_code','resort_id','children_yn',\n",
        "                'checkin_month','booking_month', 'checkin_weekday', 'checkin_weeknumber', 'booking_weekday', 'booking_weeknumber', \n",
        "                'numberofadults_bins','stay_period_bins', 'roomnights_bins'\n",
        "               ]"
      ],
      "execution_count": 0,
      "outputs": []
    },
    {
      "cell_type": "code",
      "metadata": {
        "id": "I0qCqi9_izNO",
        "colab_type": "code",
        "outputId": "6c364a61-2d37-4b06-f38b-1695b70b598c",
        "colab": {
          "base_uri": "https://localhost:8080/",
          "height": 173
        }
      },
      "source": [
        "!pip install catboost\n",
        "\n",
        "\n",
        "import catboost\n",
        "from catboost import Pool, CatBoostRegressor,cv"
      ],
      "execution_count": 0,
      "outputs": [
        {
          "output_type": "stream",
          "text": [
            "Requirement already satisfied: catboost in /usr/local/lib/python3.6/dist-packages (0.14.2)\n",
            "Requirement already satisfied: six in /usr/local/lib/python3.6/dist-packages (from catboost) (1.12.0)\n",
            "Requirement already satisfied: numpy>=1.11.1 in /usr/local/lib/python3.6/dist-packages (from catboost) (1.16.3)\n",
            "Requirement already satisfied: pandas>=0.19.1 in /usr/local/lib/python3.6/dist-packages (from catboost) (0.24.2)\n",
            "Requirement already satisfied: enum34 in /usr/local/lib/python3.6/dist-packages (from catboost) (1.1.6)\n",
            "Requirement already satisfied: graphviz in /usr/local/lib/python3.6/dist-packages (from catboost) (0.10.1)\n",
            "Requirement already satisfied: pytz>=2011k in /usr/local/lib/python3.6/dist-packages (from pandas>=0.19.1->catboost) (2018.9)\n",
            "Requirement already satisfied: python-dateutil>=2.5.0 in /usr/local/lib/python3.6/dist-packages (from pandas>=0.19.1->catboost) (2.5.3)\n"
          ],
          "name": "stdout"
        }
      ]
    },
    {
      "cell_type": "code",
      "metadata": {
        "id": "VDzIyryGi8yt",
        "colab_type": "code",
        "colab": {}
      },
      "source": [
        "_train = Pool(x_train, label=y_train,cat_features= categ_column)\n",
        "_valid = Pool(x_val, label=y_val,cat_features= categ_column)"
      ],
      "execution_count": 0,
      "outputs": []
    },
    {
      "cell_type": "code",
      "metadata": {
        "id": "_I6lwWUYs6He",
        "colab_type": "code",
        "colab": {}
      },
      "source": [
        "model = CatBoostRegressor(subsample=0.8,\n",
        "                           l2_leaf_reg = 2,\n",
        "                           max_depth=8,\n",
        "                           loss_function=\"RMSE\",\n",
        "                           learning_rate=0.02,\n",
        "                           iterations=50000,\n",
        "                           bootstrap_type='Bernoulli',\n",
        "                           task_type=\"GPU\"\n",
        "                         )"
      ],
      "execution_count": 0,
      "outputs": []
    },
    {
      "cell_type": "code",
      "metadata": {
        "id": "rk715X0L1FZs",
        "colab_type": "code",
        "outputId": "592fcde6-dfd9-46b7-b802-82fb828279a0",
        "colab": {
          "base_uri": "https://localhost:8080/",
          "height": 258
        }
      },
      "source": [
        "fit_model = model.fit(_train,verbose_eval=1000, early_stopping_rounds=100,eval_set=[_valid],use_best_model=True,plot=False)"
      ],
      "execution_count": 0,
      "outputs": [
        {
          "output_type": "stream",
          "text": [
            "5000:\tlearn: 0.9219402\ttest: 0.9798397\tbest: 0.9798345 (4997)\ttotal: 6m 13s\tremaining: 55m 58s\n",
            "bestTest = 0.9796671037\n",
            "bestIteration = 5504\n",
            "Shrink model to first 5505 iterations.\n",
            "0:\tlearn: 7.6434674\ttest: 7.6484862\tbest: 7.6484862 (0)\ttotal: 133ms\tremaining: 1h 51m 14s\n",
            "1000:\tlearn: 0.9674327\ttest: 0.9754753\tbest: 0.9754753 (1000)\ttotal: 1m 19s\tremaining: 1h 4m 44s\n",
            "2000:\tlearn: 0.9547053\ttest: 0.9733821\tbest: 0.9733797 (1999)\ttotal: 2m 32s\tremaining: 1h 1m 2s\n",
            "3000:\tlearn: 0.9438415\ttest: 0.9723342\tbest: 0.9723291 (2996)\ttotal: 3m 44s\tremaining: 58m 41s\n",
            "4000:\tlearn: 0.9337315\ttest: 0.9716448\tbest: 0.9716448 (3999)\ttotal: 4m 57s\tremaining: 57m 1s\n",
            "5000:\tlearn: 0.9238884\ttest: 0.9712900\tbest: 0.9712895 (4999)\ttotal: 6m 8s\tremaining: 55m 19s\n",
            "bestTest = 0.9709854834\n",
            "bestIteration = 5726\n",
            "Shrink model to first 5727 iterations.\n"
          ],
          "name": "stdout"
        }
      ]
    },
    {
      "cell_type": "code",
      "metadata": {
        "id": "H_WzT3pwlFel",
        "colab_type": "code",
        "colab": {}
      },
      "source": [
        "important_features = pd.DataFrame.from_dict({'Columns':fit_model.feature_names_,'Value':fit_model.feature_importances_})\n",
        "important_features = important_features.sort_values(by = 'Value', ascending = False)\n"
      ],
      "execution_count": 0,
      "outputs": []
    },
    {
      "cell_type": "code",
      "metadata": {
        "id": "mKKYHmwvAtnT",
        "colab_type": "code",
        "outputId": "d9eed580-b82d-4dc5-c62c-f811ea1d93d1",
        "colab": {
          "base_uri": "https://localhost:8080/",
          "height": 646
        }
      },
      "source": [
        "print(important_features)"
      ],
      "execution_count": 0,
      "outputs": [
        {
          "output_type": "stream",
          "text": [
            "                     Columns      Value\n",
            "21               stay_period  13.229584\n",
            "8                 roomnights   6.545107\n",
            "17                 resort_id   6.142688\n",
            "12                 total_pax   4.783518\n",
            "4         persontravellingid   4.530732\n",
            "10      state_code_residence   4.504762\n",
            "34          member_avg_trvlr   3.894647\n",
            "20       advance_book_period   3.512578\n",
            "18            total_visitors   3.305636\n",
            "25        checkin_weeknumber   3.188466\n",
            "27        booking_weeknumber   2.992625\n",
            "1          main_product_code   2.989326\n",
            "35          member_tot_trvlr   2.898595\n",
            "13        member_age_buckets   2.896722\n",
            "32    member_avg_stay_period   2.886465\n",
            "2             numberofadults   2.479731\n",
            "11         state_code_resort   2.396691\n",
            "22             checkin_month   2.086608\n",
            "7      room_type_booked_code   1.931677\n",
            "33           member_tot_stay   1.920948\n",
            "24           checkin_weekday   1.913532\n",
            "23             booking_month   1.835198\n",
            "15              cluster_code   1.804850\n",
            "0               channel_code   1.800224\n",
            "26           booking_weekday   1.734970\n",
            "31            no_of_bookings   1.723857\n",
            "9      season_holidayed_code   1.593722\n",
            "30           roomnights_bins   1.531249\n",
            "6           resort_type_code   1.260508\n",
            "5         resort_region_code   1.176035\n",
            "28       numberofadults_bins   1.054503\n",
            "29          stay_period_bins   0.769673\n",
            "3           numberofchildren   0.765964\n",
            "16  reservationstatusid_code   0.759519\n",
            "14         booking_type_code   0.632593\n",
            "19               children_yn   0.526498\n"
          ],
          "name": "stdout"
        }
      ]
    },
    {
      "cell_type": "code",
      "metadata": {
        "id": "2646Gep4th2I",
        "colab_type": "code",
        "colab": {}
      },
      "source": [
        "x_test= test.copy()\n",
        "x_test.drop(columns = ['reservation_id', 'booking_date', 'checkin_date', 'checkout_date','memberid'], axis = 1 , inplace = True)"
      ],
      "execution_count": 0,
      "outputs": []
    },
    {
      "cell_type": "code",
      "metadata": {
        "id": "Ule7JbcJt5WD",
        "colab_type": "code",
        "colab": {}
      },
      "source": [
        "y_pred = fit_model.predict(x_test)\n",
        "final_catboost = pd.DataFrame(y_pred)\n",
        "final_catboost.to_csv('final_catboost.csv')"
      ],
      "execution_count": 0,
      "outputs": []
    },
    {
      "cell_type": "code",
      "metadata": {
        "id": "eK8jf6LTuLgU",
        "colab_type": "code",
        "colab": {}
      },
      "source": [
        "# from sklearn.metrics import mean_squared_error, mean_squared_log_error, r2_score\n",
        "# y_train_pred = fit_model.predict(X)\n",
        "# r2_score(y_train_pred, y)"
      ],
      "execution_count": 0,
      "outputs": []
    },
    {
      "cell_type": "markdown",
      "metadata": {
        "id": "H89RSrryBBNA",
        "colab_type": "text"
      },
      "source": [
        "**Light GBM**"
      ]
    },
    {
      "cell_type": "code",
      "metadata": {
        "id": "rg9n1fAwE4de",
        "colab_type": "code",
        "colab": {}
      },
      "source": [
        "import lightgbm as lgb"
      ],
      "execution_count": 0,
      "outputs": []
    },
    {
      "cell_type": "code",
      "metadata": {
        "id": "ANTwidvGA_p5",
        "colab_type": "code",
        "colab": {}
      },
      "source": [
        "#data\n",
        "lgbm_train_X = pd.get_dummies(X)\n",
        "lgbm_test = pd.get_dummies(x_test)"
      ],
      "execution_count": 0,
      "outputs": []
    },
    {
      "cell_type": "code",
      "metadata": {
        "id": "j6ID26MTNgNT",
        "colab_type": "code",
        "colab": {}
      },
      "source": [
        "# Only one record is there with reservationstatusid_cod = D, dropping that\n",
        "lgbm_train_X.drop(columns = ['reservationstatusid_code_D'], axis = 1, inplace = True)"
      ],
      "execution_count": 0,
      "outputs": []
    },
    {
      "cell_type": "code",
      "metadata": {
        "id": "1TH76JSTB_fz",
        "colab_type": "code",
        "outputId": "dbec3e33-e38a-4d22-d00f-156342905e64",
        "colab": {
          "base_uri": "https://localhost:8080/",
          "height": 34
        }
      },
      "source": [
        "lgbm_train_X.shape"
      ],
      "execution_count": 0,
      "outputs": [
        {
          "output_type": "execute_result",
          "data": {
            "text/plain": [
              "(341424, 227)"
            ]
          },
          "metadata": {
            "tags": []
          },
          "execution_count": 289
        }
      ]
    },
    {
      "cell_type": "code",
      "metadata": {
        "id": "mfI_-17HCI7L",
        "colab_type": "code",
        "outputId": "461d3421-d191-41d1-b56a-11e101c61360",
        "colab": {
          "base_uri": "https://localhost:8080/",
          "height": 34
        }
      },
      "source": [
        "lgbm_test.shape"
      ],
      "execution_count": 0,
      "outputs": [
        {
          "output_type": "execute_result",
          "data": {
            "text/plain": [
              "(146765, 227)"
            ]
          },
          "metadata": {
            "tags": []
          },
          "execution_count": 290
        }
      ]
    },
    {
      "cell_type": "code",
      "metadata": {
        "id": "2b4xtHX6K01c",
        "colab_type": "code",
        "colab": {}
      },
      "source": [
        "lgbm_categ_column = ['channel_code','main_product_code','persontravellingid','resort_region_code',\n",
        "                    'resort_type_code','room_type_booked_code','season_holidayed_code','state_code_residence',\n",
        "                    'state_code_resort','booking_type_code','children_yn'\n",
        "                    ]"
      ],
      "execution_count": 0,
      "outputs": []
    },
    {
      "cell_type": "code",
      "metadata": {
        "id": "s-QorB12EOrO",
        "colab_type": "code",
        "colab": {}
      },
      "source": [
        "x_train,x_test,y_train,y_test = train_test_split(lgbm_train_X,y, test_size = 0.2, random_state = 42)"
      ],
      "execution_count": 0,
      "outputs": []
    },
    {
      "cell_type": "code",
      "metadata": {
        "id": "b4shOc51Ednm",
        "colab_type": "code",
        "colab": {}
      },
      "source": [
        "lgbm_model = {\n",
        "    \"objective\" : \"regression\",\n",
        "    \"metric\" : \"rmse\",\n",
        "    \"boosting\": 'gbdt',\n",
        "    \"max_depth\" : 8,\n",
        "    \"sub_sample\":0.8,\n",
        "    \"num_leaves\" : 31,\n",
        "    \"learning_rate\" : 0.01,\n",
        "    \"seed\": 42}"
      ],
      "execution_count": 0,
      "outputs": []
    },
    {
      "cell_type": "code",
      "metadata": {
        "id": "sNEuTnDgEjnh",
        "colab_type": "code",
        "colab": {}
      },
      "source": [
        "trn_data = lgb.Dataset(x_train, label=y_train,categorical_feature= lgbm_categ_column)\n",
        "val_data = lgb.Dataset(x_test, label=y_test,categorical_feature= lgbm_categ_column)"
      ],
      "execution_count": 0,
      "outputs": []
    },
    {
      "cell_type": "code",
      "metadata": {
        "id": "WVyKxX7hFAIj",
        "colab_type": "code",
        "outputId": "de6db54f-677e-4e4f-a12c-12f0c29e4a7b",
        "colab": {
          "base_uri": "https://localhost:8080/",
          "height": 357
        }
      },
      "source": [
        "fit_lgbm = lgb.train(lgbm_model, trn_data, num_boost_round= 20000, valid_sets = [trn_data, val_data], verbose_eval=500, \n",
        "                early_stopping_rounds = 100)"
      ],
      "execution_count": 0,
      "outputs": [
        {
          "output_type": "stream",
          "text": [
            "/usr/local/lib/python3.6/dist-packages/lightgbm/basic.py:1205: UserWarning:\n",
            "\n",
            "Using categorical_feature in Dataset.\n",
            "\n",
            "/usr/local/lib/python3.6/dist-packages/lightgbm/basic.py:762: UserWarning:\n",
            "\n",
            "categorical_feature in param dict is overridden.\n",
            "\n"
          ],
          "name": "stderr"
        },
        {
          "output_type": "stream",
          "text": [
            "Training until validation scores don't improve for 100 rounds.\n",
            "[500]\ttraining's rmse: 0.980738\tvalid_1's rmse: 0.984825\n",
            "[1000]\ttraining's rmse: 0.970274\tvalid_1's rmse: 0.979501\n",
            "[1500]\ttraining's rmse: 0.964217\tvalid_1's rmse: 0.978194\n",
            "[2000]\ttraining's rmse: 0.95963\tvalid_1's rmse: 0.977708\n",
            "[2500]\ttraining's rmse: 0.955539\tvalid_1's rmse: 0.977468\n",
            "[3000]\ttraining's rmse: 0.951657\tvalid_1's rmse: 0.977355\n",
            "[3500]\ttraining's rmse: 0.947912\tvalid_1's rmse: 0.977156\n",
            "[4000]\ttraining's rmse: 0.944261\tvalid_1's rmse: 0.977047\n",
            "[4500]\ttraining's rmse: 0.940668\tvalid_1's rmse: 0.97698\n",
            "Early stopping, best iteration is:\n",
            "[4632]\ttraining's rmse: 0.939713\tvalid_1's rmse: 0.976958\n"
          ],
          "name": "stdout"
        }
      ]
    },
    {
      "cell_type": "code",
      "metadata": {
        "id": "7R366coNSg40",
        "colab_type": "code",
        "colab": {}
      },
      "source": [
        "pred_lgbm = fit_lgbm.predict(lgbm_test, num_iteration=fit_lgbm.best_iteration)"
      ],
      "execution_count": 0,
      "outputs": []
    },
    {
      "cell_type": "code",
      "metadata": {
        "id": "Tnse3roQSx6i",
        "colab_type": "code",
        "colab": {}
      },
      "source": [
        "final_lgbm = pd.DataFrame(pred_lgbm)\n",
        "final_lgbm.to_csv('final_lgbm.csv')"
      ],
      "execution_count": 0,
      "outputs": []
    },
    {
      "cell_type": "markdown",
      "metadata": {
        "id": "CeReFeWiUXyE",
        "colab_type": "text"
      },
      "source": [
        "**Lasso Regression**"
      ]
    },
    {
      "cell_type": "code",
      "metadata": {
        "id": "ZKLATXE-V06R",
        "colab_type": "code",
        "colab": {}
      },
      "source": [
        "from sklearn.linear_model import LinearRegression, Lasso\n",
        "from sklearn.pipeline import make_pipeline\n",
        "from sklearn.preprocessing import RobustScaler\n",
        "from sklearn.model_selection import KFold, cross_val_score\n",
        "from sklearn.metrics import mean_squared_error"
      ],
      "execution_count": 0,
      "outputs": []
    },
    {
      "cell_type": "code",
      "metadata": {
        "id": "jLYC8KS4WOTM",
        "colab_type": "code",
        "colab": {}
      },
      "source": [
        "#Validation function\n",
        "n_folds = 10\n",
        "\n",
        "def rmsle_cv(model):\n",
        "    kf = KFold(n_folds, shuffle=True, random_state=42).get_n_splits(train.values)\n",
        "    rmse= np.sqrt(-cross_val_score(model,lgbm_train_X).values,y, scoring=\"neg_mean_squared_error\", cv = kf)\n",
        "    return(rmse)"
      ],
      "execution_count": 0,
      "outputs": []
    },
    {
      "cell_type": "code",
      "metadata": {
        "id": "TlMx0fDnUXNg",
        "colab_type": "code",
        "colab": {}
      },
      "source": [
        "lasso = make_pipeline(RobustScaler(), Lasso(alpha =0.0005, random_state=1))"
      ],
      "execution_count": 0,
      "outputs": []
    },
    {
      "cell_type": "code",
      "metadata": {
        "id": "7hmc8e-jYPGW",
        "colab_type": "code",
        "colab": {}
      },
      "source": [
        "def rmsle(y, y_pred):\n",
        "    return np.sqrt(mean_squared_error(y, y_pred))"
      ],
      "execution_count": 0,
      "outputs": []
    },
    {
      "cell_type": "code",
      "metadata": {
        "id": "peai65x0YQ54",
        "colab_type": "code",
        "outputId": "a32e13b9-a5ef-4a80-e3f0-588d55c49fbd",
        "colab": {
          "base_uri": "https://localhost:8080/",
          "height": 34
        }
      },
      "source": [
        "lasso.fit(lgbm_train_X, y)\n",
        "lasso_train_pred = lasso.predict(lgbm_train_X.values)\n",
        "lasso_pred = lasso.predict(lgbm_test.values)\n",
        "print(rmsle(y, lasso_train_pred))"
      ],
      "execution_count": 0,
      "outputs": [
        {
          "output_type": "stream",
          "text": [
            "1.0005034334699987\n"
          ],
          "name": "stdout"
        }
      ]
    },
    {
      "cell_type": "code",
      "metadata": {
        "id": "LrxLLgqpafqM",
        "colab_type": "code",
        "colab": {}
      },
      "source": [
        "final_lasso = pd.DataFrame(lasso_pred)\n",
        "final_lasso.to_csv('final_lasso.csv')"
      ],
      "execution_count": 0,
      "outputs": []
    },
    {
      "cell_type": "markdown",
      "metadata": {
        "id": "ncQBJcgyaOGh",
        "colab_type": "text"
      },
      "source": [
        "**Weighted Average of Predictions**"
      ]
    },
    {
      "cell_type": "code",
      "metadata": {
        "id": "U3SITSV_acSZ",
        "colab_type": "code",
        "colab": {}
      },
      "source": [
        "final_averaged = (0.7*final_catboost + 0.25*final_lgbm + 0.05*final_lasso)"
      ],
      "execution_count": 0,
      "outputs": []
    },
    {
      "cell_type": "code",
      "metadata": {
        "id": "CqnKEn4xaNj1",
        "colab_type": "code",
        "outputId": "4232df82-484a-4590-f3c5-6586ce86bcfd",
        "colab": {
          "base_uri": "https://localhost:8080/",
          "height": 204
        }
      },
      "source": [
        "final_averaged.head()"
      ],
      "execution_count": 0,
      "outputs": [
        {
          "output_type": "execute_result",
          "data": {
            "text/html": [
              "<div>\n",
              "<style scoped>\n",
              "    .dataframe tbody tr th:only-of-type {\n",
              "        vertical-align: middle;\n",
              "    }\n",
              "\n",
              "    .dataframe tbody tr th {\n",
              "        vertical-align: top;\n",
              "    }\n",
              "\n",
              "    .dataframe thead th {\n",
              "        text-align: right;\n",
              "    }\n",
              "</style>\n",
              "<table border=\"1\" class=\"dataframe\">\n",
              "  <thead>\n",
              "    <tr style=\"text-align: right;\">\n",
              "      <th></th>\n",
              "      <th>0</th>\n",
              "    </tr>\n",
              "  </thead>\n",
              "  <tbody>\n",
              "    <tr>\n",
              "      <th>0</th>\n",
              "      <td>8.072526</td>\n",
              "    </tr>\n",
              "    <tr>\n",
              "      <th>1</th>\n",
              "      <td>7.329073</td>\n",
              "    </tr>\n",
              "    <tr>\n",
              "      <th>2</th>\n",
              "      <td>7.589546</td>\n",
              "    </tr>\n",
              "    <tr>\n",
              "      <th>3</th>\n",
              "      <td>7.836493</td>\n",
              "    </tr>\n",
              "    <tr>\n",
              "      <th>4</th>\n",
              "      <td>7.711675</td>\n",
              "    </tr>\n",
              "  </tbody>\n",
              "</table>\n",
              "</div>"
            ],
            "text/plain": [
              "          0\n",
              "0  8.072526\n",
              "1  7.329073\n",
              "2  7.589546\n",
              "3  7.836493\n",
              "4  7.711675"
            ]
          },
          "metadata": {
            "tags": []
          },
          "execution_count": 309
        }
      ]
    },
    {
      "cell_type": "code",
      "metadata": {
        "id": "qOyNS-QAhcWT",
        "colab_type": "code",
        "colab": {}
      },
      "source": [
        "final_averaged.to_csv('final_averaged.csv')"
      ],
      "execution_count": 0,
      "outputs": []
    },
    {
      "cell_type": "markdown",
      "metadata": {
        "id": "UBkYghAFfxT9",
        "colab_type": "text"
      },
      "source": [
        "Weighted Average gave RMSE of\t0.9732 in private leaderboard"
      ]
    },
    {
      "cell_type": "markdown",
      "metadata": {
        "id": "smxa8gHHbKd1",
        "colab_type": "text"
      },
      "source": [
        "#**Private LB Rank : 92/983**\n",
        "\n",
        "#**Public LB Rank : 80/983**"
      ]
    }
  ]
}